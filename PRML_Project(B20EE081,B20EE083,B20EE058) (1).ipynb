{
  "nbformat": 4,
  "nbformat_minor": 0,
  "metadata": {
    "colab": {
      "name": "PRML_Project(B20EE081,B20EE083,B20EE058).ipynb",
      "provenance": [],
      "collapsed_sections": []
    },
    "kernelspec": {
      "name": "python3",
      "display_name": "Python 3"
    },
    "language_info": {
      "name": "python"
    }
  },
  "cells": [
    {
      "cell_type": "markdown",
      "source": [
        "# PRML Course Project\n",
        "\n",
        "# Project Title: Heart Failure Prediction\n",
        "\n",
        "# Group Members-->\n",
        "# Rishabh Jain (B20EE083),\n",
        "#                 Saurav Kumar (B20EE081),\n",
        "#                 Sarthak Ratnakar Deore (B20EE058)"
      ],
      "metadata": {
        "id": "nSSCv5PJIx-w"
      }
    },
    {
      "cell_type": "code",
      "source": [
        "#import libraries"
      ],
      "metadata": {
        "id": "l8VujdpoYAIW"
      },
      "execution_count": null,
      "outputs": []
    },
    {
      "cell_type": "code",
      "execution_count": null,
      "metadata": {
        "id": "u1SduhhYflf2"
      },
      "outputs": [],
      "source": [
        "import numpy as np\n",
        "import pandas as pd\n",
        "from sklearn.model_selection import train_test_split\n",
        "from sklearn.feature_selection import SelectKBest\n",
        "import seaborn as sns\n",
        "from xgboost import XGBClassifier\n",
        "from sklearn.metrics import accuracy_score\n",
        "from lightgbm import LGBMClassifier\n",
        "from sklearn.tree import DecisionTreeClassifier\n",
        "from sklearn.neural_network import MLPClassifier\n",
        "import warnings\n",
        "warnings.filterwarnings('ignore')\n",
        "import matplotlib.pyplot as plt\n",
        "from sklearn import preprocessing\n",
        "from sklearn.pipeline import Pipeline\n",
        "import matplotlib.pyplot as plt\n",
        "from sklearn.metrics import roc_auc_score, accuracy_score, roc_curve, confusion_matrix, \\\n",
        "multilabel_confusion_matrix, classification_report\n",
        "from sklearn.model_selection import GridSearchCV"
      ]
    },
    {
      "cell_type": "code",
      "source": [
        "data = pd.read_csv('/content/heart.csv')\n",
        "data"
      ],
      "metadata": {
        "colab": {
          "base_uri": "https://localhost:8080/",
          "height": 423
        },
        "id": "_mVx3Vh3fpIr",
        "outputId": "6d2f673c-22f9-49f5-90dd-5beb0b7c597a"
      },
      "execution_count": null,
      "outputs": [
        {
          "output_type": "execute_result",
          "data": {
            "text/plain": [
              "     Age Sex ChestPainType  RestingBP  Cholesterol  FastingBS RestingECG  \\\n",
              "0     40   M           ATA        140          289          0     Normal   \n",
              "1     49   F           NAP        160          180          0     Normal   \n",
              "2     37   M           ATA        130          283          0         ST   \n",
              "3     48   F           ASY        138          214          0     Normal   \n",
              "4     54   M           NAP        150          195          0     Normal   \n",
              "..   ...  ..           ...        ...          ...        ...        ...   \n",
              "913   45   M            TA        110          264          0     Normal   \n",
              "914   68   M           ASY        144          193          1     Normal   \n",
              "915   57   M           ASY        130          131          0     Normal   \n",
              "916   57   F           ATA        130          236          0        LVH   \n",
              "917   38   M           NAP        138          175          0     Normal   \n",
              "\n",
              "     MaxHR ExerciseAngina  Oldpeak ST_Slope  HeartDisease  \n",
              "0      172              N      0.0       Up             0  \n",
              "1      156              N      1.0     Flat             1  \n",
              "2       98              N      0.0       Up             0  \n",
              "3      108              Y      1.5     Flat             1  \n",
              "4      122              N      0.0       Up             0  \n",
              "..     ...            ...      ...      ...           ...  \n",
              "913    132              N      1.2     Flat             1  \n",
              "914    141              N      3.4     Flat             1  \n",
              "915    115              Y      1.2     Flat             1  \n",
              "916    174              N      0.0     Flat             1  \n",
              "917    173              N      0.0       Up             0  \n",
              "\n",
              "[918 rows x 12 columns]"
            ],
            "text/html": [
              "\n",
              "  <div id=\"df-85f94faf-e3cc-41be-9703-597906422ae3\">\n",
              "    <div class=\"colab-df-container\">\n",
              "      <div>\n",
              "<style scoped>\n",
              "    .dataframe tbody tr th:only-of-type {\n",
              "        vertical-align: middle;\n",
              "    }\n",
              "\n",
              "    .dataframe tbody tr th {\n",
              "        vertical-align: top;\n",
              "    }\n",
              "\n",
              "    .dataframe thead th {\n",
              "        text-align: right;\n",
              "    }\n",
              "</style>\n",
              "<table border=\"1\" class=\"dataframe\">\n",
              "  <thead>\n",
              "    <tr style=\"text-align: right;\">\n",
              "      <th></th>\n",
              "      <th>Age</th>\n",
              "      <th>Sex</th>\n",
              "      <th>ChestPainType</th>\n",
              "      <th>RestingBP</th>\n",
              "      <th>Cholesterol</th>\n",
              "      <th>FastingBS</th>\n",
              "      <th>RestingECG</th>\n",
              "      <th>MaxHR</th>\n",
              "      <th>ExerciseAngina</th>\n",
              "      <th>Oldpeak</th>\n",
              "      <th>ST_Slope</th>\n",
              "      <th>HeartDisease</th>\n",
              "    </tr>\n",
              "  </thead>\n",
              "  <tbody>\n",
              "    <tr>\n",
              "      <th>0</th>\n",
              "      <td>40</td>\n",
              "      <td>M</td>\n",
              "      <td>ATA</td>\n",
              "      <td>140</td>\n",
              "      <td>289</td>\n",
              "      <td>0</td>\n",
              "      <td>Normal</td>\n",
              "      <td>172</td>\n",
              "      <td>N</td>\n",
              "      <td>0.0</td>\n",
              "      <td>Up</td>\n",
              "      <td>0</td>\n",
              "    </tr>\n",
              "    <tr>\n",
              "      <th>1</th>\n",
              "      <td>49</td>\n",
              "      <td>F</td>\n",
              "      <td>NAP</td>\n",
              "      <td>160</td>\n",
              "      <td>180</td>\n",
              "      <td>0</td>\n",
              "      <td>Normal</td>\n",
              "      <td>156</td>\n",
              "      <td>N</td>\n",
              "      <td>1.0</td>\n",
              "      <td>Flat</td>\n",
              "      <td>1</td>\n",
              "    </tr>\n",
              "    <tr>\n",
              "      <th>2</th>\n",
              "      <td>37</td>\n",
              "      <td>M</td>\n",
              "      <td>ATA</td>\n",
              "      <td>130</td>\n",
              "      <td>283</td>\n",
              "      <td>0</td>\n",
              "      <td>ST</td>\n",
              "      <td>98</td>\n",
              "      <td>N</td>\n",
              "      <td>0.0</td>\n",
              "      <td>Up</td>\n",
              "      <td>0</td>\n",
              "    </tr>\n",
              "    <tr>\n",
              "      <th>3</th>\n",
              "      <td>48</td>\n",
              "      <td>F</td>\n",
              "      <td>ASY</td>\n",
              "      <td>138</td>\n",
              "      <td>214</td>\n",
              "      <td>0</td>\n",
              "      <td>Normal</td>\n",
              "      <td>108</td>\n",
              "      <td>Y</td>\n",
              "      <td>1.5</td>\n",
              "      <td>Flat</td>\n",
              "      <td>1</td>\n",
              "    </tr>\n",
              "    <tr>\n",
              "      <th>4</th>\n",
              "      <td>54</td>\n",
              "      <td>M</td>\n",
              "      <td>NAP</td>\n",
              "      <td>150</td>\n",
              "      <td>195</td>\n",
              "      <td>0</td>\n",
              "      <td>Normal</td>\n",
              "      <td>122</td>\n",
              "      <td>N</td>\n",
              "      <td>0.0</td>\n",
              "      <td>Up</td>\n",
              "      <td>0</td>\n",
              "    </tr>\n",
              "    <tr>\n",
              "      <th>...</th>\n",
              "      <td>...</td>\n",
              "      <td>...</td>\n",
              "      <td>...</td>\n",
              "      <td>...</td>\n",
              "      <td>...</td>\n",
              "      <td>...</td>\n",
              "      <td>...</td>\n",
              "      <td>...</td>\n",
              "      <td>...</td>\n",
              "      <td>...</td>\n",
              "      <td>...</td>\n",
              "      <td>...</td>\n",
              "    </tr>\n",
              "    <tr>\n",
              "      <th>913</th>\n",
              "      <td>45</td>\n",
              "      <td>M</td>\n",
              "      <td>TA</td>\n",
              "      <td>110</td>\n",
              "      <td>264</td>\n",
              "      <td>0</td>\n",
              "      <td>Normal</td>\n",
              "      <td>132</td>\n",
              "      <td>N</td>\n",
              "      <td>1.2</td>\n",
              "      <td>Flat</td>\n",
              "      <td>1</td>\n",
              "    </tr>\n",
              "    <tr>\n",
              "      <th>914</th>\n",
              "      <td>68</td>\n",
              "      <td>M</td>\n",
              "      <td>ASY</td>\n",
              "      <td>144</td>\n",
              "      <td>193</td>\n",
              "      <td>1</td>\n",
              "      <td>Normal</td>\n",
              "      <td>141</td>\n",
              "      <td>N</td>\n",
              "      <td>3.4</td>\n",
              "      <td>Flat</td>\n",
              "      <td>1</td>\n",
              "    </tr>\n",
              "    <tr>\n",
              "      <th>915</th>\n",
              "      <td>57</td>\n",
              "      <td>M</td>\n",
              "      <td>ASY</td>\n",
              "      <td>130</td>\n",
              "      <td>131</td>\n",
              "      <td>0</td>\n",
              "      <td>Normal</td>\n",
              "      <td>115</td>\n",
              "      <td>Y</td>\n",
              "      <td>1.2</td>\n",
              "      <td>Flat</td>\n",
              "      <td>1</td>\n",
              "    </tr>\n",
              "    <tr>\n",
              "      <th>916</th>\n",
              "      <td>57</td>\n",
              "      <td>F</td>\n",
              "      <td>ATA</td>\n",
              "      <td>130</td>\n",
              "      <td>236</td>\n",
              "      <td>0</td>\n",
              "      <td>LVH</td>\n",
              "      <td>174</td>\n",
              "      <td>N</td>\n",
              "      <td>0.0</td>\n",
              "      <td>Flat</td>\n",
              "      <td>1</td>\n",
              "    </tr>\n",
              "    <tr>\n",
              "      <th>917</th>\n",
              "      <td>38</td>\n",
              "      <td>M</td>\n",
              "      <td>NAP</td>\n",
              "      <td>138</td>\n",
              "      <td>175</td>\n",
              "      <td>0</td>\n",
              "      <td>Normal</td>\n",
              "      <td>173</td>\n",
              "      <td>N</td>\n",
              "      <td>0.0</td>\n",
              "      <td>Up</td>\n",
              "      <td>0</td>\n",
              "    </tr>\n",
              "  </tbody>\n",
              "</table>\n",
              "<p>918 rows × 12 columns</p>\n",
              "</div>\n",
              "      <button class=\"colab-df-convert\" onclick=\"convertToInteractive('df-85f94faf-e3cc-41be-9703-597906422ae3')\"\n",
              "              title=\"Convert this dataframe to an interactive table.\"\n",
              "              style=\"display:none;\">\n",
              "        \n",
              "  <svg xmlns=\"http://www.w3.org/2000/svg\" height=\"24px\"viewBox=\"0 0 24 24\"\n",
              "       width=\"24px\">\n",
              "    <path d=\"M0 0h24v24H0V0z\" fill=\"none\"/>\n",
              "    <path d=\"M18.56 5.44l.94 2.06.94-2.06 2.06-.94-2.06-.94-.94-2.06-.94 2.06-2.06.94zm-11 1L8.5 8.5l.94-2.06 2.06-.94-2.06-.94L8.5 2.5l-.94 2.06-2.06.94zm10 10l.94 2.06.94-2.06 2.06-.94-2.06-.94-.94-2.06-.94 2.06-2.06.94z\"/><path d=\"M17.41 7.96l-1.37-1.37c-.4-.4-.92-.59-1.43-.59-.52 0-1.04.2-1.43.59L10.3 9.45l-7.72 7.72c-.78.78-.78 2.05 0 2.83L4 21.41c.39.39.9.59 1.41.59.51 0 1.02-.2 1.41-.59l7.78-7.78 2.81-2.81c.8-.78.8-2.07 0-2.86zM5.41 20L4 18.59l7.72-7.72 1.47 1.35L5.41 20z\"/>\n",
              "  </svg>\n",
              "      </button>\n",
              "      \n",
              "  <style>\n",
              "    .colab-df-container {\n",
              "      display:flex;\n",
              "      flex-wrap:wrap;\n",
              "      gap: 12px;\n",
              "    }\n",
              "\n",
              "    .colab-df-convert {\n",
              "      background-color: #E8F0FE;\n",
              "      border: none;\n",
              "      border-radius: 50%;\n",
              "      cursor: pointer;\n",
              "      display: none;\n",
              "      fill: #1967D2;\n",
              "      height: 32px;\n",
              "      padding: 0 0 0 0;\n",
              "      width: 32px;\n",
              "    }\n",
              "\n",
              "    .colab-df-convert:hover {\n",
              "      background-color: #E2EBFA;\n",
              "      box-shadow: 0px 1px 2px rgba(60, 64, 67, 0.3), 0px 1px 3px 1px rgba(60, 64, 67, 0.15);\n",
              "      fill: #174EA6;\n",
              "    }\n",
              "\n",
              "    [theme=dark] .colab-df-convert {\n",
              "      background-color: #3B4455;\n",
              "      fill: #D2E3FC;\n",
              "    }\n",
              "\n",
              "    [theme=dark] .colab-df-convert:hover {\n",
              "      background-color: #434B5C;\n",
              "      box-shadow: 0px 1px 3px 1px rgba(0, 0, 0, 0.15);\n",
              "      filter: drop-shadow(0px 1px 2px rgba(0, 0, 0, 0.3));\n",
              "      fill: #FFFFFF;\n",
              "    }\n",
              "  </style>\n",
              "\n",
              "      <script>\n",
              "        const buttonEl =\n",
              "          document.querySelector('#df-85f94faf-e3cc-41be-9703-597906422ae3 button.colab-df-convert');\n",
              "        buttonEl.style.display =\n",
              "          google.colab.kernel.accessAllowed ? 'block' : 'none';\n",
              "\n",
              "        async function convertToInteractive(key) {\n",
              "          const element = document.querySelector('#df-85f94faf-e3cc-41be-9703-597906422ae3');\n",
              "          const dataTable =\n",
              "            await google.colab.kernel.invokeFunction('convertToInteractive',\n",
              "                                                     [key], {});\n",
              "          if (!dataTable) return;\n",
              "\n",
              "          const docLinkHtml = 'Like what you see? Visit the ' +\n",
              "            '<a target=\"_blank\" href=https://colab.research.google.com/notebooks/data_table.ipynb>data table notebook</a>'\n",
              "            + ' to learn more about interactive tables.';\n",
              "          element.innerHTML = '';\n",
              "          dataTable['output_type'] = 'display_data';\n",
              "          await google.colab.output.renderOutput(dataTable, element);\n",
              "          const docLink = document.createElement('div');\n",
              "          docLink.innerHTML = docLinkHtml;\n",
              "          element.appendChild(docLink);\n",
              "        }\n",
              "      </script>\n",
              "    </div>\n",
              "  </div>\n",
              "  "
            ]
          },
          "metadata": {},
          "execution_count": 4
        }
      ]
    },
    {
      "cell_type": "code",
      "source": [
        "data.describe()"
      ],
      "metadata": {
        "colab": {
          "base_uri": "https://localhost:8080/",
          "height": 300
        },
        "id": "zSvxHIXASRkE",
        "outputId": "ae5ef914-44de-40cb-971b-ca70c2190aaf"
      },
      "execution_count": null,
      "outputs": [
        {
          "output_type": "execute_result",
          "data": {
            "text/plain": [
              "              Age   RestingBP  Cholesterol   FastingBS       MaxHR  \\\n",
              "count  918.000000  918.000000   918.000000  918.000000  918.000000   \n",
              "mean    53.510893  132.396514   198.799564    0.233115  136.809368   \n",
              "std      9.432617   18.514154   109.384145    0.423046   25.460334   \n",
              "min     28.000000    0.000000     0.000000    0.000000   60.000000   \n",
              "25%     47.000000  120.000000   173.250000    0.000000  120.000000   \n",
              "50%     54.000000  130.000000   223.000000    0.000000  138.000000   \n",
              "75%     60.000000  140.000000   267.000000    0.000000  156.000000   \n",
              "max     77.000000  200.000000   603.000000    1.000000  202.000000   \n",
              "\n",
              "          Oldpeak  HeartDisease  \n",
              "count  918.000000    918.000000  \n",
              "mean     0.887364      0.553377  \n",
              "std      1.066570      0.497414  \n",
              "min     -2.600000      0.000000  \n",
              "25%      0.000000      0.000000  \n",
              "50%      0.600000      1.000000  \n",
              "75%      1.500000      1.000000  \n",
              "max      6.200000      1.000000  "
            ],
            "text/html": [
              "\n",
              "  <div id=\"df-b15f7023-c840-4d9a-9c8f-1faab5cefd3b\">\n",
              "    <div class=\"colab-df-container\">\n",
              "      <div>\n",
              "<style scoped>\n",
              "    .dataframe tbody tr th:only-of-type {\n",
              "        vertical-align: middle;\n",
              "    }\n",
              "\n",
              "    .dataframe tbody tr th {\n",
              "        vertical-align: top;\n",
              "    }\n",
              "\n",
              "    .dataframe thead th {\n",
              "        text-align: right;\n",
              "    }\n",
              "</style>\n",
              "<table border=\"1\" class=\"dataframe\">\n",
              "  <thead>\n",
              "    <tr style=\"text-align: right;\">\n",
              "      <th></th>\n",
              "      <th>Age</th>\n",
              "      <th>RestingBP</th>\n",
              "      <th>Cholesterol</th>\n",
              "      <th>FastingBS</th>\n",
              "      <th>MaxHR</th>\n",
              "      <th>Oldpeak</th>\n",
              "      <th>HeartDisease</th>\n",
              "    </tr>\n",
              "  </thead>\n",
              "  <tbody>\n",
              "    <tr>\n",
              "      <th>count</th>\n",
              "      <td>918.000000</td>\n",
              "      <td>918.000000</td>\n",
              "      <td>918.000000</td>\n",
              "      <td>918.000000</td>\n",
              "      <td>918.000000</td>\n",
              "      <td>918.000000</td>\n",
              "      <td>918.000000</td>\n",
              "    </tr>\n",
              "    <tr>\n",
              "      <th>mean</th>\n",
              "      <td>53.510893</td>\n",
              "      <td>132.396514</td>\n",
              "      <td>198.799564</td>\n",
              "      <td>0.233115</td>\n",
              "      <td>136.809368</td>\n",
              "      <td>0.887364</td>\n",
              "      <td>0.553377</td>\n",
              "    </tr>\n",
              "    <tr>\n",
              "      <th>std</th>\n",
              "      <td>9.432617</td>\n",
              "      <td>18.514154</td>\n",
              "      <td>109.384145</td>\n",
              "      <td>0.423046</td>\n",
              "      <td>25.460334</td>\n",
              "      <td>1.066570</td>\n",
              "      <td>0.497414</td>\n",
              "    </tr>\n",
              "    <tr>\n",
              "      <th>min</th>\n",
              "      <td>28.000000</td>\n",
              "      <td>0.000000</td>\n",
              "      <td>0.000000</td>\n",
              "      <td>0.000000</td>\n",
              "      <td>60.000000</td>\n",
              "      <td>-2.600000</td>\n",
              "      <td>0.000000</td>\n",
              "    </tr>\n",
              "    <tr>\n",
              "      <th>25%</th>\n",
              "      <td>47.000000</td>\n",
              "      <td>120.000000</td>\n",
              "      <td>173.250000</td>\n",
              "      <td>0.000000</td>\n",
              "      <td>120.000000</td>\n",
              "      <td>0.000000</td>\n",
              "      <td>0.000000</td>\n",
              "    </tr>\n",
              "    <tr>\n",
              "      <th>50%</th>\n",
              "      <td>54.000000</td>\n",
              "      <td>130.000000</td>\n",
              "      <td>223.000000</td>\n",
              "      <td>0.000000</td>\n",
              "      <td>138.000000</td>\n",
              "      <td>0.600000</td>\n",
              "      <td>1.000000</td>\n",
              "    </tr>\n",
              "    <tr>\n",
              "      <th>75%</th>\n",
              "      <td>60.000000</td>\n",
              "      <td>140.000000</td>\n",
              "      <td>267.000000</td>\n",
              "      <td>0.000000</td>\n",
              "      <td>156.000000</td>\n",
              "      <td>1.500000</td>\n",
              "      <td>1.000000</td>\n",
              "    </tr>\n",
              "    <tr>\n",
              "      <th>max</th>\n",
              "      <td>77.000000</td>\n",
              "      <td>200.000000</td>\n",
              "      <td>603.000000</td>\n",
              "      <td>1.000000</td>\n",
              "      <td>202.000000</td>\n",
              "      <td>6.200000</td>\n",
              "      <td>1.000000</td>\n",
              "    </tr>\n",
              "  </tbody>\n",
              "</table>\n",
              "</div>\n",
              "      <button class=\"colab-df-convert\" onclick=\"convertToInteractive('df-b15f7023-c840-4d9a-9c8f-1faab5cefd3b')\"\n",
              "              title=\"Convert this dataframe to an interactive table.\"\n",
              "              style=\"display:none;\">\n",
              "        \n",
              "  <svg xmlns=\"http://www.w3.org/2000/svg\" height=\"24px\"viewBox=\"0 0 24 24\"\n",
              "       width=\"24px\">\n",
              "    <path d=\"M0 0h24v24H0V0z\" fill=\"none\"/>\n",
              "    <path d=\"M18.56 5.44l.94 2.06.94-2.06 2.06-.94-2.06-.94-.94-2.06-.94 2.06-2.06.94zm-11 1L8.5 8.5l.94-2.06 2.06-.94-2.06-.94L8.5 2.5l-.94 2.06-2.06.94zm10 10l.94 2.06.94-2.06 2.06-.94-2.06-.94-.94-2.06-.94 2.06-2.06.94z\"/><path d=\"M17.41 7.96l-1.37-1.37c-.4-.4-.92-.59-1.43-.59-.52 0-1.04.2-1.43.59L10.3 9.45l-7.72 7.72c-.78.78-.78 2.05 0 2.83L4 21.41c.39.39.9.59 1.41.59.51 0 1.02-.2 1.41-.59l7.78-7.78 2.81-2.81c.8-.78.8-2.07 0-2.86zM5.41 20L4 18.59l7.72-7.72 1.47 1.35L5.41 20z\"/>\n",
              "  </svg>\n",
              "      </button>\n",
              "      \n",
              "  <style>\n",
              "    .colab-df-container {\n",
              "      display:flex;\n",
              "      flex-wrap:wrap;\n",
              "      gap: 12px;\n",
              "    }\n",
              "\n",
              "    .colab-df-convert {\n",
              "      background-color: #E8F0FE;\n",
              "      border: none;\n",
              "      border-radius: 50%;\n",
              "      cursor: pointer;\n",
              "      display: none;\n",
              "      fill: #1967D2;\n",
              "      height: 32px;\n",
              "      padding: 0 0 0 0;\n",
              "      width: 32px;\n",
              "    }\n",
              "\n",
              "    .colab-df-convert:hover {\n",
              "      background-color: #E2EBFA;\n",
              "      box-shadow: 0px 1px 2px rgba(60, 64, 67, 0.3), 0px 1px 3px 1px rgba(60, 64, 67, 0.15);\n",
              "      fill: #174EA6;\n",
              "    }\n",
              "\n",
              "    [theme=dark] .colab-df-convert {\n",
              "      background-color: #3B4455;\n",
              "      fill: #D2E3FC;\n",
              "    }\n",
              "\n",
              "    [theme=dark] .colab-df-convert:hover {\n",
              "      background-color: #434B5C;\n",
              "      box-shadow: 0px 1px 3px 1px rgba(0, 0, 0, 0.15);\n",
              "      filter: drop-shadow(0px 1px 2px rgba(0, 0, 0, 0.3));\n",
              "      fill: #FFFFFF;\n",
              "    }\n",
              "  </style>\n",
              "\n",
              "      <script>\n",
              "        const buttonEl =\n",
              "          document.querySelector('#df-b15f7023-c840-4d9a-9c8f-1faab5cefd3b button.colab-df-convert');\n",
              "        buttonEl.style.display =\n",
              "          google.colab.kernel.accessAllowed ? 'block' : 'none';\n",
              "\n",
              "        async function convertToInteractive(key) {\n",
              "          const element = document.querySelector('#df-b15f7023-c840-4d9a-9c8f-1faab5cefd3b');\n",
              "          const dataTable =\n",
              "            await google.colab.kernel.invokeFunction('convertToInteractive',\n",
              "                                                     [key], {});\n",
              "          if (!dataTable) return;\n",
              "\n",
              "          const docLinkHtml = 'Like what you see? Visit the ' +\n",
              "            '<a target=\"_blank\" href=https://colab.research.google.com/notebooks/data_table.ipynb>data table notebook</a>'\n",
              "            + ' to learn more about interactive tables.';\n",
              "          element.innerHTML = '';\n",
              "          dataTable['output_type'] = 'display_data';\n",
              "          await google.colab.output.renderOutput(dataTable, element);\n",
              "          const docLink = document.createElement('div');\n",
              "          docLink.innerHTML = docLinkHtml;\n",
              "          element.appendChild(docLink);\n",
              "        }\n",
              "      </script>\n",
              "    </div>\n",
              "  </div>\n",
              "  "
            ]
          },
          "metadata": {},
          "execution_count": 5
        }
      ]
    },
    {
      "cell_type": "code",
      "source": [
        "# Encoding Categorical Features"
      ],
      "metadata": {
        "id": "rux8E6aWYI7X"
      },
      "execution_count": null,
      "outputs": []
    },
    {
      "cell_type": "code",
      "source": [
        "def encodeCategoricalFeatures(df):\n",
        "  categorical_features = df[['Sex','ChestPainType','RestingECG','ExerciseAngina','ST_Slope']]\n",
        "  non_categorical_features = df.drop(['Sex','ChestPainType','RestingECG','ExerciseAngina','ST_Slope'],axis=1)\n",
        "\n",
        "  encoder = preprocessing.OrdinalEncoder().fit(categorical_features)\n",
        "  categorical_features = pd.DataFrame(encoder.fit_transform(categorical_features),columns=categorical_features.columns,index=categorical_features.index)\n",
        "  \n",
        "  df = pd.concat([non_categorical_features,categorical_features], axis=1, join=\"inner\")\n",
        "\n",
        "  return df\n",
        "\n",
        "data_encoded = encodeCategoricalFeatures(data)\n",
        "data_encoded"
      ],
      "metadata": {
        "colab": {
          "base_uri": "https://localhost:8080/",
          "height": 423
        },
        "id": "DRc7deXdgdW0",
        "outputId": "4b45be56-1f94-459f-c52a-40e2f845df0a"
      },
      "execution_count": null,
      "outputs": [
        {
          "output_type": "execute_result",
          "data": {
            "text/plain": [
              "     Age  RestingBP  Cholesterol  FastingBS  MaxHR  Oldpeak  HeartDisease  \\\n",
              "0     40        140          289          0    172      0.0             0   \n",
              "1     49        160          180          0    156      1.0             1   \n",
              "2     37        130          283          0     98      0.0             0   \n",
              "3     48        138          214          0    108      1.5             1   \n",
              "4     54        150          195          0    122      0.0             0   \n",
              "..   ...        ...          ...        ...    ...      ...           ...   \n",
              "913   45        110          264          0    132      1.2             1   \n",
              "914   68        144          193          1    141      3.4             1   \n",
              "915   57        130          131          0    115      1.2             1   \n",
              "916   57        130          236          0    174      0.0             1   \n",
              "917   38        138          175          0    173      0.0             0   \n",
              "\n",
              "     Sex  ChestPainType  RestingECG  ExerciseAngina  ST_Slope  \n",
              "0    1.0            1.0         1.0             0.0       2.0  \n",
              "1    0.0            2.0         1.0             0.0       1.0  \n",
              "2    1.0            1.0         2.0             0.0       2.0  \n",
              "3    0.0            0.0         1.0             1.0       1.0  \n",
              "4    1.0            2.0         1.0             0.0       2.0  \n",
              "..   ...            ...         ...             ...       ...  \n",
              "913  1.0            3.0         1.0             0.0       1.0  \n",
              "914  1.0            0.0         1.0             0.0       1.0  \n",
              "915  1.0            0.0         1.0             1.0       1.0  \n",
              "916  0.0            1.0         0.0             0.0       1.0  \n",
              "917  1.0            2.0         1.0             0.0       2.0  \n",
              "\n",
              "[918 rows x 12 columns]"
            ],
            "text/html": [
              "\n",
              "  <div id=\"df-73455278-5fa0-4af5-bb68-33ed24da0198\">\n",
              "    <div class=\"colab-df-container\">\n",
              "      <div>\n",
              "<style scoped>\n",
              "    .dataframe tbody tr th:only-of-type {\n",
              "        vertical-align: middle;\n",
              "    }\n",
              "\n",
              "    .dataframe tbody tr th {\n",
              "        vertical-align: top;\n",
              "    }\n",
              "\n",
              "    .dataframe thead th {\n",
              "        text-align: right;\n",
              "    }\n",
              "</style>\n",
              "<table border=\"1\" class=\"dataframe\">\n",
              "  <thead>\n",
              "    <tr style=\"text-align: right;\">\n",
              "      <th></th>\n",
              "      <th>Age</th>\n",
              "      <th>RestingBP</th>\n",
              "      <th>Cholesterol</th>\n",
              "      <th>FastingBS</th>\n",
              "      <th>MaxHR</th>\n",
              "      <th>Oldpeak</th>\n",
              "      <th>HeartDisease</th>\n",
              "      <th>Sex</th>\n",
              "      <th>ChestPainType</th>\n",
              "      <th>RestingECG</th>\n",
              "      <th>ExerciseAngina</th>\n",
              "      <th>ST_Slope</th>\n",
              "    </tr>\n",
              "  </thead>\n",
              "  <tbody>\n",
              "    <tr>\n",
              "      <th>0</th>\n",
              "      <td>40</td>\n",
              "      <td>140</td>\n",
              "      <td>289</td>\n",
              "      <td>0</td>\n",
              "      <td>172</td>\n",
              "      <td>0.0</td>\n",
              "      <td>0</td>\n",
              "      <td>1.0</td>\n",
              "      <td>1.0</td>\n",
              "      <td>1.0</td>\n",
              "      <td>0.0</td>\n",
              "      <td>2.0</td>\n",
              "    </tr>\n",
              "    <tr>\n",
              "      <th>1</th>\n",
              "      <td>49</td>\n",
              "      <td>160</td>\n",
              "      <td>180</td>\n",
              "      <td>0</td>\n",
              "      <td>156</td>\n",
              "      <td>1.0</td>\n",
              "      <td>1</td>\n",
              "      <td>0.0</td>\n",
              "      <td>2.0</td>\n",
              "      <td>1.0</td>\n",
              "      <td>0.0</td>\n",
              "      <td>1.0</td>\n",
              "    </tr>\n",
              "    <tr>\n",
              "      <th>2</th>\n",
              "      <td>37</td>\n",
              "      <td>130</td>\n",
              "      <td>283</td>\n",
              "      <td>0</td>\n",
              "      <td>98</td>\n",
              "      <td>0.0</td>\n",
              "      <td>0</td>\n",
              "      <td>1.0</td>\n",
              "      <td>1.0</td>\n",
              "      <td>2.0</td>\n",
              "      <td>0.0</td>\n",
              "      <td>2.0</td>\n",
              "    </tr>\n",
              "    <tr>\n",
              "      <th>3</th>\n",
              "      <td>48</td>\n",
              "      <td>138</td>\n",
              "      <td>214</td>\n",
              "      <td>0</td>\n",
              "      <td>108</td>\n",
              "      <td>1.5</td>\n",
              "      <td>1</td>\n",
              "      <td>0.0</td>\n",
              "      <td>0.0</td>\n",
              "      <td>1.0</td>\n",
              "      <td>1.0</td>\n",
              "      <td>1.0</td>\n",
              "    </tr>\n",
              "    <tr>\n",
              "      <th>4</th>\n",
              "      <td>54</td>\n",
              "      <td>150</td>\n",
              "      <td>195</td>\n",
              "      <td>0</td>\n",
              "      <td>122</td>\n",
              "      <td>0.0</td>\n",
              "      <td>0</td>\n",
              "      <td>1.0</td>\n",
              "      <td>2.0</td>\n",
              "      <td>1.0</td>\n",
              "      <td>0.0</td>\n",
              "      <td>2.0</td>\n",
              "    </tr>\n",
              "    <tr>\n",
              "      <th>...</th>\n",
              "      <td>...</td>\n",
              "      <td>...</td>\n",
              "      <td>...</td>\n",
              "      <td>...</td>\n",
              "      <td>...</td>\n",
              "      <td>...</td>\n",
              "      <td>...</td>\n",
              "      <td>...</td>\n",
              "      <td>...</td>\n",
              "      <td>...</td>\n",
              "      <td>...</td>\n",
              "      <td>...</td>\n",
              "    </tr>\n",
              "    <tr>\n",
              "      <th>913</th>\n",
              "      <td>45</td>\n",
              "      <td>110</td>\n",
              "      <td>264</td>\n",
              "      <td>0</td>\n",
              "      <td>132</td>\n",
              "      <td>1.2</td>\n",
              "      <td>1</td>\n",
              "      <td>1.0</td>\n",
              "      <td>3.0</td>\n",
              "      <td>1.0</td>\n",
              "      <td>0.0</td>\n",
              "      <td>1.0</td>\n",
              "    </tr>\n",
              "    <tr>\n",
              "      <th>914</th>\n",
              "      <td>68</td>\n",
              "      <td>144</td>\n",
              "      <td>193</td>\n",
              "      <td>1</td>\n",
              "      <td>141</td>\n",
              "      <td>3.4</td>\n",
              "      <td>1</td>\n",
              "      <td>1.0</td>\n",
              "      <td>0.0</td>\n",
              "      <td>1.0</td>\n",
              "      <td>0.0</td>\n",
              "      <td>1.0</td>\n",
              "    </tr>\n",
              "    <tr>\n",
              "      <th>915</th>\n",
              "      <td>57</td>\n",
              "      <td>130</td>\n",
              "      <td>131</td>\n",
              "      <td>0</td>\n",
              "      <td>115</td>\n",
              "      <td>1.2</td>\n",
              "      <td>1</td>\n",
              "      <td>1.0</td>\n",
              "      <td>0.0</td>\n",
              "      <td>1.0</td>\n",
              "      <td>1.0</td>\n",
              "      <td>1.0</td>\n",
              "    </tr>\n",
              "    <tr>\n",
              "      <th>916</th>\n",
              "      <td>57</td>\n",
              "      <td>130</td>\n",
              "      <td>236</td>\n",
              "      <td>0</td>\n",
              "      <td>174</td>\n",
              "      <td>0.0</td>\n",
              "      <td>1</td>\n",
              "      <td>0.0</td>\n",
              "      <td>1.0</td>\n",
              "      <td>0.0</td>\n",
              "      <td>0.0</td>\n",
              "      <td>1.0</td>\n",
              "    </tr>\n",
              "    <tr>\n",
              "      <th>917</th>\n",
              "      <td>38</td>\n",
              "      <td>138</td>\n",
              "      <td>175</td>\n",
              "      <td>0</td>\n",
              "      <td>173</td>\n",
              "      <td>0.0</td>\n",
              "      <td>0</td>\n",
              "      <td>1.0</td>\n",
              "      <td>2.0</td>\n",
              "      <td>1.0</td>\n",
              "      <td>0.0</td>\n",
              "      <td>2.0</td>\n",
              "    </tr>\n",
              "  </tbody>\n",
              "</table>\n",
              "<p>918 rows × 12 columns</p>\n",
              "</div>\n",
              "      <button class=\"colab-df-convert\" onclick=\"convertToInteractive('df-73455278-5fa0-4af5-bb68-33ed24da0198')\"\n",
              "              title=\"Convert this dataframe to an interactive table.\"\n",
              "              style=\"display:none;\">\n",
              "        \n",
              "  <svg xmlns=\"http://www.w3.org/2000/svg\" height=\"24px\"viewBox=\"0 0 24 24\"\n",
              "       width=\"24px\">\n",
              "    <path d=\"M0 0h24v24H0V0z\" fill=\"none\"/>\n",
              "    <path d=\"M18.56 5.44l.94 2.06.94-2.06 2.06-.94-2.06-.94-.94-2.06-.94 2.06-2.06.94zm-11 1L8.5 8.5l.94-2.06 2.06-.94-2.06-.94L8.5 2.5l-.94 2.06-2.06.94zm10 10l.94 2.06.94-2.06 2.06-.94-2.06-.94-.94-2.06-.94 2.06-2.06.94z\"/><path d=\"M17.41 7.96l-1.37-1.37c-.4-.4-.92-.59-1.43-.59-.52 0-1.04.2-1.43.59L10.3 9.45l-7.72 7.72c-.78.78-.78 2.05 0 2.83L4 21.41c.39.39.9.59 1.41.59.51 0 1.02-.2 1.41-.59l7.78-7.78 2.81-2.81c.8-.78.8-2.07 0-2.86zM5.41 20L4 18.59l7.72-7.72 1.47 1.35L5.41 20z\"/>\n",
              "  </svg>\n",
              "      </button>\n",
              "      \n",
              "  <style>\n",
              "    .colab-df-container {\n",
              "      display:flex;\n",
              "      flex-wrap:wrap;\n",
              "      gap: 12px;\n",
              "    }\n",
              "\n",
              "    .colab-df-convert {\n",
              "      background-color: #E8F0FE;\n",
              "      border: none;\n",
              "      border-radius: 50%;\n",
              "      cursor: pointer;\n",
              "      display: none;\n",
              "      fill: #1967D2;\n",
              "      height: 32px;\n",
              "      padding: 0 0 0 0;\n",
              "      width: 32px;\n",
              "    }\n",
              "\n",
              "    .colab-df-convert:hover {\n",
              "      background-color: #E2EBFA;\n",
              "      box-shadow: 0px 1px 2px rgba(60, 64, 67, 0.3), 0px 1px 3px 1px rgba(60, 64, 67, 0.15);\n",
              "      fill: #174EA6;\n",
              "    }\n",
              "\n",
              "    [theme=dark] .colab-df-convert {\n",
              "      background-color: #3B4455;\n",
              "      fill: #D2E3FC;\n",
              "    }\n",
              "\n",
              "    [theme=dark] .colab-df-convert:hover {\n",
              "      background-color: #434B5C;\n",
              "      box-shadow: 0px 1px 3px 1px rgba(0, 0, 0, 0.15);\n",
              "      filter: drop-shadow(0px 1px 2px rgba(0, 0, 0, 0.3));\n",
              "      fill: #FFFFFF;\n",
              "    }\n",
              "  </style>\n",
              "\n",
              "      <script>\n",
              "        const buttonEl =\n",
              "          document.querySelector('#df-73455278-5fa0-4af5-bb68-33ed24da0198 button.colab-df-convert');\n",
              "        buttonEl.style.display =\n",
              "          google.colab.kernel.accessAllowed ? 'block' : 'none';\n",
              "\n",
              "        async function convertToInteractive(key) {\n",
              "          const element = document.querySelector('#df-73455278-5fa0-4af5-bb68-33ed24da0198');\n",
              "          const dataTable =\n",
              "            await google.colab.kernel.invokeFunction('convertToInteractive',\n",
              "                                                     [key], {});\n",
              "          if (!dataTable) return;\n",
              "\n",
              "          const docLinkHtml = 'Like what you see? Visit the ' +\n",
              "            '<a target=\"_blank\" href=https://colab.research.google.com/notebooks/data_table.ipynb>data table notebook</a>'\n",
              "            + ' to learn more about interactive tables.';\n",
              "          element.innerHTML = '';\n",
              "          dataTable['output_type'] = 'display_data';\n",
              "          await google.colab.output.renderOutput(dataTable, element);\n",
              "          const docLink = document.createElement('div');\n",
              "          docLink.innerHTML = docLinkHtml;\n",
              "          element.appendChild(docLink);\n",
              "        }\n",
              "      </script>\n",
              "    </div>\n",
              "  </div>\n",
              "  "
            ]
          },
          "metadata": {},
          "execution_count": 6
        }
      ]
    },
    {
      "cell_type": "code",
      "source": [
        "#visualization"
      ],
      "metadata": {
        "id": "gUmyNHC9YVof"
      },
      "execution_count": null,
      "outputs": []
    },
    {
      "cell_type": "code",
      "source": [
        "f,ax = plt.subplots(figsize=(12,8))\n",
        "sns.heatmap(data_encoded.corr(), cmap=\"PuBu\", annot=True, linewidths=0.5, fmt= '.2f',ax=ax)\n",
        "plt.show()"
      ],
      "metadata": {
        "colab": {
          "base_uri": "https://localhost:8080/",
          "height": 553
        },
        "id": "t57fMNb3bYtO",
        "outputId": "62d818c4-8ca8-4673-b507-f6dfab6f09b3"
      },
      "execution_count": null,
      "outputs": [
        {
          "output_type": "display_data",
          "data": {
            "text/plain": [
              "<Figure size 864x576 with 2 Axes>"
            ],
            "image/png": "[encoded data removed]"
          },
          "metadata": {
            "needs_background": "light"
          }
        }
      ]
    },
    {
      "cell_type": "code",
      "source": [
        "# Standardization of Data"
      ],
      "metadata": {
        "id": "MXEOR77fZQlU"
      },
      "execution_count": null,
      "outputs": []
    },
    {
      "cell_type": "code",
      "source": [
        "def Standardization(df):\n",
        "  categorical_features = df[['HeartDisease','Sex','ChestPainType','RestingECG','ExerciseAngina','ST_Slope']]\n",
        "  non_categorical_features = df.drop(['HeartDisease','Sex','ChestPainType','RestingECG','ExerciseAngina','ST_Slope'],axis=1)\n",
        "  scaler = preprocessing.StandardScaler().fit(non_categorical_features)\n",
        "\n",
        "  non_categorical_features = pd.DataFrame(scaler.fit_transform(non_categorical_features),columns=non_categorical_features.columns,index=non_categorical_features.index)\n",
        "\n",
        "  df = pd.concat([non_categorical_features,categorical_features], axis=1, join=\"inner\")\n",
        "\n",
        "  return df\n",
        "\n",
        "data_scaled = Standardization(data_encoded)\n",
        "data_scaled"
      ],
      "metadata": {
        "colab": {
          "base_uri": "https://localhost:8080/",
          "height": 467
        },
        "id": "gNNuc06IhB50",
        "outputId": "af2185d0-2a64-4376-8b4d-86e46f2e7d1a"
      },
      "execution_count": null,
      "outputs": [
        {
          "output_type": "execute_result",
          "data": {
            "text/plain": [
              "          Age  RestingBP  Cholesterol  FastingBS     MaxHR   Oldpeak  \\\n",
              "0   -1.433140   0.410909     0.825070  -0.551341  1.382928 -0.832432   \n",
              "1   -0.478484   1.491752    -0.171961  -0.551341  0.754157  0.105664   \n",
              "2   -1.751359  -0.129513     0.770188  -0.551341 -1.525138 -0.832432   \n",
              "3   -0.584556   0.302825     0.139040  -0.551341 -1.132156  0.574711   \n",
              "4    0.051881   0.951331    -0.034755  -0.551341 -0.581981 -0.832432   \n",
              "..        ...        ...          ...        ...       ...       ...   \n",
              "913 -0.902775  -1.210356     0.596393  -0.551341 -0.188999  0.293283   \n",
              "914  1.536902   0.627078    -0.053049   1.813758  0.164684  2.357094   \n",
              "915  0.370100  -0.129513    -0.620168  -0.551341 -0.857069  0.293283   \n",
              "916  0.370100  -0.129513     0.340275  -0.551341  1.461525 -0.832432   \n",
              "917 -1.645286   0.302825    -0.217696  -0.551341  1.422226 -0.832432   \n",
              "\n",
              "     HeartDisease  Sex  ChestPainType  RestingECG  ExerciseAngina  ST_Slope  \n",
              "0               0  1.0            1.0         1.0             0.0       2.0  \n",
              "1               1  0.0            2.0         1.0             0.0       1.0  \n",
              "2               0  1.0            1.0         2.0             0.0       2.0  \n",
              "3               1  0.0            0.0         1.0             1.0       1.0  \n",
              "4               0  1.0            2.0         1.0             0.0       2.0  \n",
              "..            ...  ...            ...         ...             ...       ...  \n",
              "913             1  1.0            3.0         1.0             0.0       1.0  \n",
              "914             1  1.0            0.0         1.0             0.0       1.0  \n",
              "915             1  1.0            0.0         1.0             1.0       1.0  \n",
              "916             1  0.0            1.0         0.0             0.0       1.0  \n",
              "917             0  1.0            2.0         1.0             0.0       2.0  \n",
              "\n",
              "[918 rows x 12 columns]"
            ],
            "text/html": [
              "\n",
              "  <div id=\"df-9bfe281b-2f09-48eb-81e7-ab13d34e0e28\">\n",
              "    <div class=\"colab-df-container\">\n",
              "      <div>\n",
              "<style scoped>\n",
              "    .dataframe tbody tr th:only-of-type {\n",
              "        vertical-align: middle;\n",
              "    }\n",
              "\n",
              "    .dataframe tbody tr th {\n",
              "        vertical-align: top;\n",
              "    }\n",
              "\n",
              "    .dataframe thead th {\n",
              "        text-align: right;\n",
              "    }\n",
              "</style>\n",
              "<table border=\"1\" class=\"dataframe\">\n",
              "  <thead>\n",
              "    <tr style=\"text-align: right;\">\n",
              "      <th></th>\n",
              "      <th>Age</th>\n",
              "      <th>RestingBP</th>\n",
              "      <th>Cholesterol</th>\n",
              "      <th>FastingBS</th>\n",
              "      <th>MaxHR</th>\n",
              "      <th>Oldpeak</th>\n",
              "      <th>HeartDisease</th>\n",
              "      <th>Sex</th>\n",
              "      <th>ChestPainType</th>\n",
              "      <th>RestingECG</th>\n",
              "      <th>ExerciseAngina</th>\n",
              "      <th>ST_Slope</th>\n",
              "    </tr>\n",
              "  </thead>\n",
              "  <tbody>\n",
              "    <tr>\n",
              "      <th>0</th>\n",
              "      <td>-1.433140</td>\n",
              "      <td>0.410909</td>\n",
              "      <td>0.825070</td>\n",
              "      <td>-0.551341</td>\n",
              "      <td>1.382928</td>\n",
              "      <td>-0.832432</td>\n",
              "      <td>0</td>\n",
              "      <td>1.0</td>\n",
              "      <td>1.0</td>\n",
              "      <td>1.0</td>\n",
              "      <td>0.0</td>\n",
              "      <td>2.0</td>\n",
              "    </tr>\n",
              "    <tr>\n",
              "      <th>1</th>\n",
              "      <td>-0.478484</td>\n",
              "      <td>1.491752</td>\n",
              "      <td>-0.171961</td>\n",
              "      <td>-0.551341</td>\n",
              "      <td>0.754157</td>\n",
              "      <td>0.105664</td>\n",
              "      <td>1</td>\n",
              "      <td>0.0</td>\n",
              "      <td>2.0</td>\n",
              "      <td>1.0</td>\n",
              "      <td>0.0</td>\n",
              "      <td>1.0</td>\n",
              "    </tr>\n",
              "    <tr>\n",
              "      <th>2</th>\n",
              "      <td>-1.751359</td>\n",
              "      <td>-0.129513</td>\n",
              "      <td>0.770188</td>\n",
              "      <td>-0.551341</td>\n",
              "      <td>-1.525138</td>\n",
              "      <td>-0.832432</td>\n",
              "      <td>0</td>\n",
              "      <td>1.0</td>\n",
              "      <td>1.0</td>\n",
              "      <td>2.0</td>\n",
              "      <td>0.0</td>\n",
              "      <td>2.0</td>\n",
              "    </tr>\n",
              "    <tr>\n",
              "      <th>3</th>\n",
              "      <td>-0.584556</td>\n",
              "      <td>0.302825</td>\n",
              "      <td>0.139040</td>\n",
              "      <td>-0.551341</td>\n",
              "      <td>-1.132156</td>\n",
              "      <td>0.574711</td>\n",
              "      <td>1</td>\n",
              "      <td>0.0</td>\n",
              "      <td>0.0</td>\n",
              "      <td>1.0</td>\n",
              "      <td>1.0</td>\n",
              "      <td>1.0</td>\n",
              "    </tr>\n",
              "    <tr>\n",
              "      <th>4</th>\n",
              "      <td>0.051881</td>\n",
              "      <td>0.951331</td>\n",
              "      <td>-0.034755</td>\n",
              "      <td>-0.551341</td>\n",
              "      <td>-0.581981</td>\n",
              "      <td>-0.832432</td>\n",
              "      <td>0</td>\n",
              "      <td>1.0</td>\n",
              "      <td>2.0</td>\n",
              "      <td>1.0</td>\n",
              "      <td>0.0</td>\n",
              "      <td>2.0</td>\n",
              "    </tr>\n",
              "    <tr>\n",
              "      <th>...</th>\n",
              "      <td>...</td>\n",
              "      <td>...</td>\n",
              "      <td>...</td>\n",
              "      <td>...</td>\n",
              "      <td>...</td>\n",
              "      <td>...</td>\n",
              "      <td>...</td>\n",
              "      <td>...</td>\n",
              "      <td>...</td>\n",
              "      <td>...</td>\n",
              "      <td>...</td>\n",
              "      <td>...</td>\n",
              "    </tr>\n",
              "    <tr>\n",
              "      <th>913</th>\n",
              "      <td>-0.902775</td>\n",
              "      <td>-1.210356</td>\n",
              "      <td>0.596393</td>\n",
              "      <td>-0.551341</td>\n",
              "      <td>-0.188999</td>\n",
              "      <td>0.293283</td>\n",
              "      <td>1</td>\n",
              "      <td>1.0</td>\n",
              "      <td>3.0</td>\n",
              "      <td>1.0</td>\n",
              "      <td>0.0</td>\n",
              "      <td>1.0</td>\n",
              "    </tr>\n",
              "    <tr>\n",
              "      <th>914</th>\n",
              "      <td>1.536902</td>\n",
              "      <td>0.627078</td>\n",
              "      <td>-0.053049</td>\n",
              "      <td>1.813758</td>\n",
              "      <td>0.164684</td>\n",
              "      <td>2.357094</td>\n",
              "      <td>1</td>\n",
              "      <td>1.0</td>\n",
              "      <td>0.0</td>\n",
              "      <td>1.0</td>\n",
              "      <td>0.0</td>\n",
              "      <td>1.0</td>\n",
              "    </tr>\n",
              "    <tr>\n",
              "      <th>915</th>\n",
              "      <td>0.370100</td>\n",
              "      <td>-0.129513</td>\n",
              "      <td>-0.620168</td>\n",
              "      <td>-0.551341</td>\n",
              "      <td>-0.857069</td>\n",
              "      <td>0.293283</td>\n",
              "      <td>1</td>\n",
              "      <td>1.0</td>\n",
              "      <td>0.0</td>\n",
              "      <td>1.0</td>\n",
              "      <td>1.0</td>\n",
              "      <td>1.0</td>\n",
              "    </tr>\n",
              "    <tr>\n",
              "      <th>916</th>\n",
              "      <td>0.370100</td>\n",
              "      <td>-0.129513</td>\n",
              "      <td>0.340275</td>\n",
              "      <td>-0.551341</td>\n",
              "      <td>1.461525</td>\n",
              "      <td>-0.832432</td>\n",
              "      <td>1</td>\n",
              "      <td>0.0</td>\n",
              "      <td>1.0</td>\n",
              "      <td>0.0</td>\n",
              "      <td>0.0</td>\n",
              "      <td>1.0</td>\n",
              "    </tr>\n",
              "    <tr>\n",
              "      <th>917</th>\n",
              "      <td>-1.645286</td>\n",
              "      <td>0.302825</td>\n",
              "      <td>-0.217696</td>\n",
              "      <td>-0.551341</td>\n",
              "      <td>1.422226</td>\n",
              "      <td>-0.832432</td>\n",
              "      <td>0</td>\n",
              "      <td>1.0</td>\n",
              "      <td>2.0</td>\n",
              "      <td>1.0</td>\n",
              "      <td>0.0</td>\n",
              "      <td>2.0</td>\n",
              "    </tr>\n",
              "  </tbody>\n",
              "</table>\n",
              "<p>918 rows × 12 columns</p>\n",
              "</div>\n",
              "      <button class=\"colab-df-convert\" onclick=\"convertToInteractive('df-9bfe281b-2f09-48eb-81e7-ab13d34e0e28')\"\n",
              "              title=\"Convert this dataframe to an interactive table.\"\n",
              "              style=\"display:none;\">\n",
              "        \n",
              "  <svg xmlns=\"http://www.w3.org/2000/svg\" height=\"24px\"viewBox=\"0 0 24 24\"\n",
              "       width=\"24px\">\n",
              "    <path d=\"M0 0h24v24H0V0z\" fill=\"none\"/>\n",
              "    <path d=\"M18.56 5.44l.94 2.06.94-2.06 2.06-.94-2.06-.94-.94-2.06-.94 2.06-2.06.94zm-11 1L8.5 8.5l.94-2.06 2.06-.94-2.06-.94L8.5 2.5l-.94 2.06-2.06.94zm10 10l.94 2.06.94-2.06 2.06-.94-2.06-.94-.94-2.06-.94 2.06-2.06.94z\"/><path d=\"M17.41 7.96l-1.37-1.37c-.4-.4-.92-.59-1.43-.59-.52 0-1.04.2-1.43.59L10.3 9.45l-7.72 7.72c-.78.78-.78 2.05 0 2.83L4 21.41c.39.39.9.59 1.41.59.51 0 1.02-.2 1.41-.59l7.78-7.78 2.81-2.81c.8-.78.8-2.07 0-2.86zM5.41 20L4 18.59l7.72-7.72 1.47 1.35L5.41 20z\"/>\n",
              "  </svg>\n",
              "      </button>\n",
              "      \n",
              "  <style>\n",
              "    .colab-df-container {\n",
              "      display:flex;\n",
              "      flex-wrap:wrap;\n",
              "      gap: 12px;\n",
              "    }\n",
              "\n",
              "    .colab-df-convert {\n",
              "      background-color: #E8F0FE;\n",
              "      border: none;\n",
              "      border-radius: 50%;\n",
              "      cursor: pointer;\n",
              "      display: none;\n",
              "      fill: #1967D2;\n",
              "      height: 32px;\n",
              "      padding: 0 0 0 0;\n",
              "      width: 32px;\n",
              "    }\n",
              "\n",
              "    .colab-df-convert:hover {\n",
              "      background-color: #E2EBFA;\n",
              "      box-shadow: 0px 1px 2px rgba(60, 64, 67, 0.3), 0px 1px 3px 1px rgba(60, 64, 67, 0.15);\n",
              "      fill: #174EA6;\n",
              "    }\n",
              "\n",
              "    [theme=dark] .colab-df-convert {\n",
              "      background-color: #3B4455;\n",
              "      fill: #D2E3FC;\n",
              "    }\n",
              "\n",
              "    [theme=dark] .colab-df-convert:hover {\n",
              "      background-color: #434B5C;\n",
              "      box-shadow: 0px 1px 3px 1px rgba(0, 0, 0, 0.15);\n",
              "      filter: drop-shadow(0px 1px 2px rgba(0, 0, 0, 0.3));\n",
              "      fill: #FFFFFF;\n",
              "    }\n",
              "  </style>\n",
              "\n",
              "      <script>\n",
              "        const buttonEl =\n",
              "          document.querySelector('#df-9bfe281b-2f09-48eb-81e7-ab13d34e0e28 button.colab-df-convert');\n",
              "        buttonEl.style.display =\n",
              "          google.colab.kernel.accessAllowed ? 'block' : 'none';\n",
              "\n",
              "        async function convertToInteractive(key) {\n",
              "          const element = document.querySelector('#df-9bfe281b-2f09-48eb-81e7-ab13d34e0e28');\n",
              "          const dataTable =\n",
              "            await google.colab.kernel.invokeFunction('convertToInteractive',\n",
              "                                                     [key], {});\n",
              "          if (!dataTable) return;\n",
              "\n",
              "          const docLinkHtml = 'Like what you see? Visit the ' +\n",
              "            '<a target=\"_blank\" href=https://colab.research.google.com/notebooks/data_table.ipynb>data table notebook</a>'\n",
              "            + ' to learn more about interactive tables.';\n",
              "          element.innerHTML = '';\n",
              "          dataTable['output_type'] = 'display_data';\n",
              "          await google.colab.output.renderOutput(dataTable, element);\n",
              "          const docLink = document.createElement('div');\n",
              "          docLink.innerHTML = docLinkHtml;\n",
              "          element.appendChild(docLink);\n",
              "        }\n",
              "      </script>\n",
              "    </div>\n",
              "  </div>\n",
              "  "
            ]
          },
          "metadata": {},
          "execution_count": 8
        }
      ]
    },
    {
      "cell_type": "code",
      "source": [
        "# Separating the target variable and features"
      ],
      "metadata": {
        "id": "rP4lOOYMZbxF"
      },
      "execution_count": null,
      "outputs": []
    },
    {
      "cell_type": "code",
      "source": [
        "x = data_scaled.drop(['HeartDisease'],axis =1)\n",
        "y = data_scaled[['HeartDisease']]\n",
        "y"
      ],
      "metadata": {
        "colab": {
          "base_uri": "https://localhost:8080/",
          "height": 423
        },
        "id": "oS7pIezYhUbp",
        "outputId": "586bce5b-0901-4567-abfc-c044e7bf88ae"
      },
      "execution_count": null,
      "outputs": [
        {
          "output_type": "execute_result",
          "data": {
            "text/plain": [
              "     HeartDisease\n",
              "0               0\n",
              "1               1\n",
              "2               0\n",
              "3               1\n",
              "4               0\n",
              "..            ...\n",
              "913             1\n",
              "914             1\n",
              "915             1\n",
              "916             1\n",
              "917             0\n",
              "\n",
              "[918 rows x 1 columns]"
            ],
            "text/html": [
              "\n",
              "  <div id=\"df-9838b022-7c6b-48fb-b491-88f9f1bb436b\">\n",
              "    <div class=\"colab-df-container\">\n",
              "      <div>\n",
              "<style scoped>\n",
              "    .dataframe tbody tr th:only-of-type {\n",
              "        vertical-align: middle;\n",
              "    }\n",
              "\n",
              "    .dataframe tbody tr th {\n",
              "        vertical-align: top;\n",
              "    }\n",
              "\n",
              "    .dataframe thead th {\n",
              "        text-align: right;\n",
              "    }\n",
              "</style>\n",
              "<table border=\"1\" class=\"dataframe\">\n",
              "  <thead>\n",
              "    <tr style=\"text-align: right;\">\n",
              "      <th></th>\n",
              "      <th>HeartDisease</th>\n",
              "    </tr>\n",
              "  </thead>\n",
              "  <tbody>\n",
              "    <tr>\n",
              "      <th>0</th>\n",
              "      <td>0</td>\n",
              "    </tr>\n",
              "    <tr>\n",
              "      <th>1</th>\n",
              "      <td>1</td>\n",
              "    </tr>\n",
              "    <tr>\n",
              "      <th>2</th>\n",
              "      <td>0</td>\n",
              "    </tr>\n",
              "    <tr>\n",
              "      <th>3</th>\n",
              "      <td>1</td>\n",
              "    </tr>\n",
              "    <tr>\n",
              "      <th>4</th>\n",
              "      <td>0</td>\n",
              "    </tr>\n",
              "    <tr>\n",
              "      <th>...</th>\n",
              "      <td>...</td>\n",
              "    </tr>\n",
              "    <tr>\n",
              "      <th>913</th>\n",
              "      <td>1</td>\n",
              "    </tr>\n",
              "    <tr>\n",
              "      <th>914</th>\n",
              "      <td>1</td>\n",
              "    </tr>\n",
              "    <tr>\n",
              "      <th>915</th>\n",
              "      <td>1</td>\n",
              "    </tr>\n",
              "    <tr>\n",
              "      <th>916</th>\n",
              "      <td>1</td>\n",
              "    </tr>\n",
              "    <tr>\n",
              "      <th>917</th>\n",
              "      <td>0</td>\n",
              "    </tr>\n",
              "  </tbody>\n",
              "</table>\n",
              "<p>918 rows × 1 columns</p>\n",
              "</div>\n",
              "      <button class=\"colab-df-convert\" onclick=\"convertToInteractive('df-9838b022-7c6b-48fb-b491-88f9f1bb436b')\"\n",
              "              title=\"Convert this dataframe to an interactive table.\"\n",
              "              style=\"display:none;\">\n",
              "        \n",
              "  <svg xmlns=\"http://www.w3.org/2000/svg\" height=\"24px\"viewBox=\"0 0 24 24\"\n",
              "       width=\"24px\">\n",
              "    <path d=\"M0 0h24v24H0V0z\" fill=\"none\"/>\n",
              "    <path d=\"M18.56 5.44l.94 2.06.94-2.06 2.06-.94-2.06-.94-.94-2.06-.94 2.06-2.06.94zm-11 1L8.5 8.5l.94-2.06 2.06-.94-2.06-.94L8.5 2.5l-.94 2.06-2.06.94zm10 10l.94 2.06.94-2.06 2.06-.94-2.06-.94-.94-2.06-.94 2.06-2.06.94z\"/><path d=\"M17.41 7.96l-1.37-1.37c-.4-.4-.92-.59-1.43-.59-.52 0-1.04.2-1.43.59L10.3 9.45l-7.72 7.72c-.78.78-.78 2.05 0 2.83L4 21.41c.39.39.9.59 1.41.59.51 0 1.02-.2 1.41-.59l7.78-7.78 2.81-2.81c.8-.78.8-2.07 0-2.86zM5.41 20L4 18.59l7.72-7.72 1.47 1.35L5.41 20z\"/>\n",
              "  </svg>\n",
              "      </button>\n",
              "      \n",
              "  <style>\n",
              "    .colab-df-container {\n",
              "      display:flex;\n",
              "      flex-wrap:wrap;\n",
              "      gap: 12px;\n",
              "    }\n",
              "\n",
              "    .colab-df-convert {\n",
              "      background-color: #E8F0FE;\n",
              "      border: none;\n",
              "      border-radius: 50%;\n",
              "      cursor: pointer;\n",
              "      display: none;\n",
              "      fill: #1967D2;\n",
              "      height: 32px;\n",
              "      padding: 0 0 0 0;\n",
              "      width: 32px;\n",
              "    }\n",
              "\n",
              "    .colab-df-convert:hover {\n",
              "      background-color: #E2EBFA;\n",
              "      box-shadow: 0px 1px 2px rgba(60, 64, 67, 0.3), 0px 1px 3px 1px rgba(60, 64, 67, 0.15);\n",
              "      fill: #174EA6;\n",
              "    }\n",
              "\n",
              "    [theme=dark] .colab-df-convert {\n",
              "      background-color: #3B4455;\n",
              "      fill: #D2E3FC;\n",
              "    }\n",
              "\n",
              "    [theme=dark] .colab-df-convert:hover {\n",
              "      background-color: #434B5C;\n",
              "      box-shadow: 0px 1px 3px 1px rgba(0, 0, 0, 0.15);\n",
              "      filter: drop-shadow(0px 1px 2px rgba(0, 0, 0, 0.3));\n",
              "      fill: #FFFFFF;\n",
              "    }\n",
              "  </style>\n",
              "\n",
              "      <script>\n",
              "        const buttonEl =\n",
              "          document.querySelector('#df-9838b022-7c6b-48fb-b491-88f9f1bb436b button.colab-df-convert');\n",
              "        buttonEl.style.display =\n",
              "          google.colab.kernel.accessAllowed ? 'block' : 'none';\n",
              "\n",
              "        async function convertToInteractive(key) {\n",
              "          const element = document.querySelector('#df-9838b022-7c6b-48fb-b491-88f9f1bb436b');\n",
              "          const dataTable =\n",
              "            await google.colab.kernel.invokeFunction('convertToInteractive',\n",
              "                                                     [key], {});\n",
              "          if (!dataTable) return;\n",
              "\n",
              "          const docLinkHtml = 'Like what you see? Visit the ' +\n",
              "            '<a target=\"_blank\" href=https://colab.research.google.com/notebooks/data_table.ipynb>data table notebook</a>'\n",
              "            + ' to learn more about interactive tables.';\n",
              "          element.innerHTML = '';\n",
              "          dataTable['output_type'] = 'display_data';\n",
              "          await google.colab.output.renderOutput(dataTable, element);\n",
              "          const docLink = document.createElement('div');\n",
              "          docLink.innerHTML = docLinkHtml;\n",
              "          element.appendChild(docLink);\n",
              "        }\n",
              "      </script>\n",
              "    </div>\n",
              "  </div>\n",
              "  "
            ]
          },
          "metadata": {},
          "execution_count": 9
        }
      ]
    },
    {
      "cell_type": "code",
      "source": [
        "# spliting the input data and target variable"
      ],
      "metadata": {
        "id": "c4dcFhT2Z41R"
      },
      "execution_count": null,
      "outputs": []
    },
    {
      "cell_type": "code",
      "source": [
        "x_train,x_test,y_train,y_test = train_test_split(x,y,test_size=0.3 , stratify=y,random_state=0)"
      ],
      "metadata": {
        "id": "4jM8H6nmhxsR"
      },
      "execution_count": null,
      "outputs": []
    },
    {
      "cell_type": "code",
      "source": [
        "model = ['DecisionTreeClassifier','MLPClassifier','XGBClassifier','LGBMClassifier','RandomForestClassifier','AdaBoostClassifier','KNeighborsClassifier','SVC','KNeighborsClassifier','GaussianNB','LogisticRegression']\n",
        "score = []"
      ],
      "metadata": {
        "id": "DoT8wGX1AXAQ"
      },
      "execution_count": null,
      "outputs": []
    },
    {
      "cell_type": "markdown",
      "source": [
        "### Applying the different types of model"
      ],
      "metadata": {
        "id": "AnBLBujbabec"
      }
    },
    {
      "cell_type": "markdown",
      "source": [
        "# (1)DecisionTreeClassifier"
      ],
      "metadata": {
        "id": "QUom7rFqgjBX"
      }
    },
    {
      "cell_type": "code",
      "source": [
        "clf = DecisionTreeClassifier(criterion = 'entropy')\n",
        "clf.fit(x_train,y_train)\n",
        "y_pred = clf.predict(x_test)\n",
        "score.append(accuracy_score(y_test,y_pred))\n",
        "print(accuracy_score(y_test,y_pred))"
      ],
      "metadata": {
        "colab": {
          "base_uri": "https://localhost:8080/"
        },
        "id": "yyDUi1emiGEZ",
        "outputId": "e62fdb36-d15d-420d-8c04-3401fcb50812"
      },
      "execution_count": null,
      "outputs": [
        {
          "output_type": "stream",
          "name": "stdout",
          "text": [
            "0.7862318840579711\n"
          ]
        }
      ]
    },
    {
      "cell_type": "markdown",
      "source": [
        "# (2)MLPClassifier"
      ],
      "metadata": {
        "id": "XGLl1Z-hgqyY"
      }
    },
    {
      "cell_type": "code",
      "source": [
        "clf =   MLPClassifier()\n",
        "clf.fit(x_train,y_train)\n",
        "y_pred = clf.predict(x_test)\n",
        "score.append(accuracy_score(y_test,y_pred))\n",
        "print(accuracy_score(y_test,y_pred))"
      ],
      "metadata": {
        "colab": {
          "base_uri": "https://localhost:8080/"
        },
        "id": "6onPyVTCiniT",
        "outputId": "044d3484-4a54-40ba-9245-acf06875cff0"
      },
      "execution_count": null,
      "outputs": [
        {
          "output_type": "stream",
          "name": "stdout",
          "text": [
            "0.8659420289855072\n"
          ]
        }
      ]
    },
    {
      "cell_type": "markdown",
      "source": [
        "# (3)XGBClassifier"
      ],
      "metadata": {
        "id": "HqDHEY9pgv1B"
      }
    },
    {
      "cell_type": "code",
      "source": [
        "from xgboost import XGBClassifier\n",
        "clf =   XGBClassifier(n_estimators=50)\n",
        "clf.fit(x_train,y_train)\n",
        "y_pred = clf.predict(x_test)\n",
        "score.append(accuracy_score(y_test,y_pred))\n",
        "print(accuracy_score(y_test,y_pred))\n"
      ],
      "metadata": {
        "colab": {
          "base_uri": "https://localhost:8080/"
        },
        "id": "i90oiu7bit6z",
        "outputId": "88f15683-93c7-4d9e-d88a-3103c25be90e"
      },
      "execution_count": null,
      "outputs": [
        {
          "output_type": "stream",
          "name": "stdout",
          "text": [
            "0.8623188405797102\n"
          ]
        }
      ]
    },
    {
      "cell_type": "markdown",
      "source": [
        ""
      ],
      "metadata": {
        "id": "vQW250oHg0bC"
      }
    },
    {
      "cell_type": "markdown",
      "source": [
        "# (4)LGBMClassifier"
      ],
      "metadata": {
        "id": "6hWwyHlXg21t"
      }
    },
    {
      "cell_type": "code",
      "source": [
        "from lightgbm import LGBMClassifier\n",
        "clf =   LGBMClassifier()\n",
        "clf.fit(x_train,y_train)\n",
        "y_pred = clf.predict(x_test)\n",
        "score.append(accuracy_score(y_test,y_pred))\n",
        "print(accuracy_score(y_test,y_pred))\n"
      ],
      "metadata": {
        "colab": {
          "base_uri": "https://localhost:8080/"
        },
        "id": "O7eu4UE8i9RB",
        "outputId": "de653129-87ce-4d9c-f84b-2b952f4e9e48"
      },
      "execution_count": null,
      "outputs": [
        {
          "output_type": "stream",
          "name": "stdout",
          "text": [
            "0.8405797101449275\n"
          ]
        }
      ]
    },
    {
      "cell_type": "markdown",
      "source": [
        "# (5)RandomForestClassifier"
      ],
      "metadata": {
        "id": "afZwIQuvg8bx"
      }
    },
    {
      "cell_type": "code",
      "source": [
        "from sklearn.ensemble import RandomForestClassifier\n",
        "clf2 =   RandomForestClassifier(n_estimators = 1000, criterion = 'entropy')\n",
        "clf2.fit(x_train,y_train)\n",
        "y_pred = clf2.predict(x_test)\n",
        "score.append(accuracy_score(y_test,y_pred))\n",
        "print(accuracy_score(y_test,y_pred))"
      ],
      "metadata": {
        "colab": {
          "base_uri": "https://localhost:8080/"
        },
        "id": "mDwN88vUjGJZ",
        "outputId": "646553f5-7b72-49b0-b368-6571a92b8edb"
      },
      "execution_count": null,
      "outputs": [
        {
          "output_type": "stream",
          "name": "stdout",
          "text": [
            "0.8804347826086957\n"
          ]
        }
      ]
    },
    {
      "cell_type": "markdown",
      "source": [
        "# (6)AdaBoostClassifier"
      ],
      "metadata": {
        "id": "MM5rNwe8hBZL"
      }
    },
    {
      "cell_type": "code",
      "source": [
        "from sklearn.ensemble import AdaBoostClassifier\n",
        "clf =   AdaBoostClassifier()\n",
        "clf.fit(x_train,y_train)\n",
        "y_pred = clf.predict(x_test)\n",
        "score.append(accuracy_score(y_test,y_pred))\n",
        "print(accuracy_score(y_test,y_pred))\n"
      ],
      "metadata": {
        "colab": {
          "base_uri": "https://localhost:8080/"
        },
        "id": "cBEKuLVZjYG5",
        "outputId": "925f8d7a-e7e3-43a2-ddcb-cd5835b7f77f"
      },
      "execution_count": null,
      "outputs": [
        {
          "output_type": "stream",
          "name": "stdout",
          "text": [
            "0.8478260869565217\n"
          ]
        }
      ]
    },
    {
      "cell_type": "markdown",
      "source": [
        "# (7)KNeighborsClassifier"
      ],
      "metadata": {
        "id": "DrOT2OlvhI1E"
      }
    },
    {
      "cell_type": "code",
      "source": [
        "from sklearn.neighbors import KNeighborsClassifier\n",
        "\n",
        "knn = KNeighborsClassifier().fit(x_train, y_train)\n",
        "score.append(knn.score(x_test, y_test))\n",
        "knn.score(x_test, y_test)"
      ],
      "metadata": {
        "colab": {
          "base_uri": "https://localhost:8080/"
        },
        "id": "xZMRbxsojoZz",
        "outputId": "cf6740af-822d-41b3-d104-42bf2df041f5"
      },
      "execution_count": null,
      "outputs": [
        {
          "output_type": "execute_result",
          "data": {
            "text/plain": [
              "0.8260869565217391"
            ]
          },
          "metadata": {},
          "execution_count": 130
        }
      ]
    },
    {
      "cell_type": "markdown",
      "source": [
        "# (8)SVC"
      ],
      "metadata": {
        "id": "5XaVdNNvhOeZ"
      }
    },
    {
      "cell_type": "code",
      "source": [
        "from sklearn.svm import SVC\n",
        "\n",
        "np.random.seed(42)\n",
        "\n",
        "svc = SVC(kernel = 'poly',random_state=100)\n",
        "svc.fit(x_train, y_train)\n",
        "y_pred = svc.predict(x_test)\n",
        "score.append(accuracy_score(y_test,y_pred))\n",
        "print(accuracy_score(y_test,y_pred))"
      ],
      "metadata": {
        "colab": {
          "base_uri": "https://localhost:8080/"
        },
        "id": "z9MDBCtBkI6h",
        "outputId": "30c8838d-14ae-4f5e-bf5c-e68b994ae82e"
      },
      "execution_count": null,
      "outputs": [
        {
          "output_type": "stream",
          "name": "stdout",
          "text": [
            "0.8478260869565217\n"
          ]
        }
      ]
    },
    {
      "cell_type": "markdown",
      "source": [
        "# (9) KNeighborsClassifier"
      ],
      "metadata": {
        "id": "PB8DRnTOhRVt"
      }
    },
    {
      "cell_type": "code",
      "source": [
        "from sklearn.neighbors import KNeighborsClassifier\n",
        "classifier = KNeighborsClassifier(n_neighbors = 5, metric = 'minkowski', p = 2)\n",
        "classifier.fit(x_train, y_train)\n",
        "y_pred = classifier.predict(x_test)\n",
        "score.append(accuracy_score(y_test,y_pred))\n",
        "print(accuracy_score(y_test,y_pred))"
      ],
      "metadata": {
        "colab": {
          "base_uri": "https://localhost:8080/"
        },
        "id": "K7KuVr6Sk2yx",
        "outputId": "8c0798ea-1f7e-407a-c4b2-48772d13f688"
      },
      "execution_count": null,
      "outputs": [
        {
          "output_type": "stream",
          "name": "stdout",
          "text": [
            "0.8260869565217391\n"
          ]
        }
      ]
    },
    {
      "cell_type": "markdown",
      "source": [
        "# (10) GaussianNB"
      ],
      "metadata": {
        "id": "E5V42pyehat7"
      }
    },
    {
      "cell_type": "code",
      "source": [
        "from sklearn.naive_bayes import GaussianNB\n",
        "classifier = GaussianNB()\n",
        "classifier.fit(x_train, y_train)\n",
        "y_pred = classifier.predict(x_test)\n",
        "score.append(accuracy_score(y_test,y_pred))\n",
        "print(accuracy_score(y_test,y_pred))"
      ],
      "metadata": {
        "colab": {
          "base_uri": "https://localhost:8080/"
        },
        "id": "yNVk-QFHlGac",
        "outputId": "85f837a0-8250-49d0-8153-661c23fc1072"
      },
      "execution_count": null,
      "outputs": [
        {
          "output_type": "stream",
          "name": "stdout",
          "text": [
            "0.822463768115942\n"
          ]
        }
      ]
    },
    {
      "cell_type": "markdown",
      "source": [
        "# (11)  LogisticRegression"
      ],
      "metadata": {
        "id": "gnFkVVv6hf1h"
      }
    },
    {
      "cell_type": "code",
      "source": [
        "from sklearn.linear_model import LogisticRegression\n",
        "classifier = LogisticRegression()\n",
        "classifier.fit(x_train, y_train)\n",
        "y_pred = classifier.predict(x_test)\n",
        "score.append(accuracy_score(y_test,y_pred))\n",
        "print(accuracy_score(y_test,y_pred))"
      ],
      "metadata": {
        "colab": {
          "base_uri": "https://localhost:8080/"
        },
        "id": "fD57dTvki9M_",
        "outputId": "17efb4d2-679a-467d-8c99-32311677978f"
      },
      "execution_count": null,
      "outputs": [
        {
          "output_type": "stream",
          "name": "stdout",
          "text": [
            "0.855072463768116\n"
          ]
        }
      ]
    },
    {
      "cell_type": "markdown",
      "source": [
        "# visualization of accuracies of different machine learning models"
      ],
      "metadata": {
        "id": "yCYXsYuabgez"
      }
    },
    {
      "cell_type": "code",
      "source": [
        "fig = plt.figure(figsize = (20,5))\n",
        "import matplotlib.pyplot as plt\n",
        " \n",
        "c = ['red', 'yellow', '#36E1B6','#A9FF33', 'blue', 'orange','green','purple','#7E092E','#6513F4']\n",
        "plt.bar(model,score,width = 0.5,color =c)"
      ],
      "metadata": {
        "colab": {
          "base_uri": "https://localhost:8080/",
          "height": 327
        },
        "id": "ob73msSIBQ3Y",
        "outputId": "4cba4755-3048-4a7e-92e0-0f29429e899a"
      },
      "execution_count": null,
      "outputs": [
        {
          "output_type": "execute_result",
          "data": {
            "text/plain": [
              "<BarContainer object of 11 artists>"
            ]
          },
          "metadata": {},
          "execution_count": 143
        },
        {
          "output_type": "display_data",
          "data": {
            "text/plain": [
              "<Figure size 1440x360 with 1 Axes>"
            ],
            "image/png": "[encoded data removed]"
          },
          "metadata": {
            "needs_background": "light"
          }
        }
      ]
    },
    {
      "cell_type": "markdown",
      "source": [
        "# We get the best accuracy for the given following models so we will hyper tune the following 5 models using GridSearchCV:-\n",
        "# 1)RandomForestClassifier\n",
        "# 2) MLP\n",
        "# 3) XGBClassifier\n",
        "# 4) LogisticRegression\n",
        "# 5) SVM"
      ],
      "metadata": {
        "id": "PgAEhRsgj_zm"
      }
    },
    {
      "cell_type": "markdown",
      "source": [
        "#Machine learning pipeline"
      ],
      "metadata": {
        "id": "gTK2xux7V-dV"
      }
    },
    {
      "cell_type": "code",
      "source": [
        "randomForest_pipeline = Pipeline([('RandomForestClassifier model', RandomForestClassifier())])\n",
        "MLP_pipeline = Pipeline([('mlp neural network model', MLPClassifier(activation= 'relu', solver= 'adam'))])\n",
        "XGBC_pipeline = Pipeline([('XGBC classifier model', XGBClassifier())])\n",
        "SVC_pipeline = Pipeline([('SVM model', SVC())])"
      ],
      "metadata": {
        "id": "MFaXWTxbKpvZ"
      },
      "execution_count": null,
      "outputs": []
    },
    {
      "cell_type": "code",
      "source": [
        "def run_pipeline(pipeline, x_train, y_train, x_test,y_test):\n",
        "    pipeline.fit(x_train, y_train)\n",
        "    y_pred = pipeline.predict(x_test)\n",
        "    print('accuracy: ', accuracy_score(y_test, y_pred))\n",
        "    print('confusion matrices: ')\n",
        "    print(multilabel_confusion_matrix(y_test, y_pred))\n",
        "    print('classification_report: ')\n",
        "    print(classification_report(y_test, y_pred))"
      ],
      "metadata": {
        "id": "DkbPuA5lKyWw"
      },
      "execution_count": null,
      "outputs": []
    },
    {
      "cell_type": "markdown",
      "source": [
        "# RandomForestClassifier_Pipeline"
      ],
      "metadata": {
        "id": "3WqGKzSlj2Vj"
      }
    },
    {
      "cell_type": "code",
      "source": [
        "print(\"======================RandomForestClassifier_Pipeline=======================\\n\")\n",
        "run_pipeline(randomForest_pipeline,x_train, y_train,x_test,y_test)"
      ],
      "metadata": {
        "colab": {
          "base_uri": "https://localhost:8080/"
        },
        "id": "4Z1VSL6vAON3",
        "outputId": "6beff8ee-9280-4672-8711-79e37433fdb5"
      },
      "execution_count": null,
      "outputs": [
        {
          "output_type": "stream",
          "name": "stdout",
          "text": [
            "======================RandomForestClassifier_Pipeline=======================\n",
            "\n",
            "accuracy:  0.8695652173913043\n",
            "confusion matrices: \n",
            "[[[132  21]\n",
            "  [ 15 108]]\n",
            "\n",
            " [[108  15]\n",
            "  [ 21 132]]]\n",
            "classification_report: \n",
            "              precision    recall  f1-score   support\n",
            "\n",
            "           0       0.84      0.88      0.86       123\n",
            "           1       0.90      0.86      0.88       153\n",
            "\n",
            "    accuracy                           0.87       276\n",
            "   macro avg       0.87      0.87      0.87       276\n",
            "weighted avg       0.87      0.87      0.87       276\n",
            "\n"
          ]
        }
      ]
    },
    {
      "cell_type": "markdown",
      "source": [
        "# MLP_pipeline"
      ],
      "metadata": {
        "id": "9GCC6FhXjyn9"
      }
    },
    {
      "cell_type": "code",
      "source": [
        "print(\"======================MLP_pipeline=======================\\n\")\n",
        "run_pipeline(MLP_pipeline,x_train, y_train,x_test,y_test)"
      ],
      "metadata": {
        "colab": {
          "base_uri": "https://localhost:8080/"
        },
        "id": "QdCM1mDYU39i",
        "outputId": "c1f54107-4ea0-4b2b-fd1e-2dfbc3e4eab8"
      },
      "execution_count": null,
      "outputs": [
        {
          "output_type": "stream",
          "name": "stdout",
          "text": [
            "======================MLP_pipeline=======================\n",
            "\n",
            "accuracy:  0.8731884057971014\n",
            "confusion matrices: \n",
            "[[[133  20]\n",
            "  [ 15 108]]\n",
            "\n",
            " [[108  15]\n",
            "  [ 20 133]]]\n",
            "classification_report: \n",
            "              precision    recall  f1-score   support\n",
            "\n",
            "           0       0.84      0.88      0.86       123\n",
            "           1       0.90      0.87      0.88       153\n",
            "\n",
            "    accuracy                           0.87       276\n",
            "   macro avg       0.87      0.87      0.87       276\n",
            "weighted avg       0.87      0.87      0.87       276\n",
            "\n"
          ]
        }
      ]
    },
    {
      "cell_type": "markdown",
      "source": [
        "# XGBC_pipeline"
      ],
      "metadata": {
        "id": "vyI3a7-Vjw-G"
      }
    },
    {
      "cell_type": "code",
      "source": [
        "print(\"======================XGBC_pipeline=======================\\n\")\n",
        "run_pipeline(XGBC_pipeline,x_train, y_train,x_test,y_test)"
      ],
      "metadata": {
        "colab": {
          "base_uri": "https://localhost:8080/"
        },
        "id": "wxXd_vkXU-w5",
        "outputId": "624165a3-9b1f-439c-c795-8441625dbbf6"
      },
      "execution_count": null,
      "outputs": [
        {
          "output_type": "stream",
          "name": "stdout",
          "text": [
            "======================XGBC_pipeline=======================\n",
            "\n",
            "accuracy:  0.8623188405797102\n",
            "confusion matrices: \n",
            "[[[132  21]\n",
            "  [ 17 106]]\n",
            "\n",
            " [[106  17]\n",
            "  [ 21 132]]]\n",
            "classification_report: \n",
            "              precision    recall  f1-score   support\n",
            "\n",
            "           0       0.83      0.86      0.85       123\n",
            "           1       0.89      0.86      0.87       153\n",
            "\n",
            "    accuracy                           0.86       276\n",
            "   macro avg       0.86      0.86      0.86       276\n",
            "weighted avg       0.86      0.86      0.86       276\n",
            "\n"
          ]
        }
      ]
    },
    {
      "cell_type": "markdown",
      "source": [
        "# Support_Vector_Machine_Pipeline"
      ],
      "metadata": {
        "id": "Gi-mjVifjshv"
      }
    },
    {
      "cell_type": "code",
      "source": [
        "print(\"======================Support_Vector_Machine_Pipeline=======================\\n\")\n",
        "run_pipeline(SVC_pipeline,x_train, y_train,x_test,y_test)"
      ],
      "metadata": {
        "colab": {
          "base_uri": "https://localhost:8080/"
        },
        "id": "UUlIkcBTVnlZ",
        "outputId": "4af59b9c-a9de-4d15-ec03-976707096139"
      },
      "execution_count": null,
      "outputs": [
        {
          "output_type": "stream",
          "name": "stdout",
          "text": [
            "======================Support_Vector_Machine_Pipeline=======================\n",
            "\n",
            "accuracy:  0.8659420289855072\n",
            "confusion matrices: \n",
            "[[[132  21]\n",
            "  [ 16 107]]\n",
            "\n",
            " [[107  16]\n",
            "  [ 21 132]]]\n",
            "classification_report: \n",
            "              precision    recall  f1-score   support\n",
            "\n",
            "           0       0.84      0.87      0.85       123\n",
            "           1       0.89      0.86      0.88       153\n",
            "\n",
            "    accuracy                           0.87       276\n",
            "   macro avg       0.86      0.87      0.86       276\n",
            "weighted avg       0.87      0.87      0.87       276\n",
            "\n"
          ]
        }
      ]
    },
    {
      "cell_type": "markdown",
      "source": [
        "#HyperTuning of RandomForestClassifier"
      ],
      "metadata": {
        "id": "BxjwlX3cWCxA"
      }
    },
    {
      "cell_type": "code",
      "source": [
        "from sklearn.model_selection import GridSearchCV\n",
        "rfc = RandomForestClassifier(random_state=33)\n",
        "parameters = {\n",
        "    \"n_estimators\":[5,10,50,100,250,300,350,400,500,600,],\n",
        "    \"max_depth\":[2,4,8,16,32,64,None],}\n",
        "cv = GridSearchCV(rfc,parameters,cv=5)\n",
        "cv.fit(x_train,y_train.values.ravel())"
      ],
      "metadata": {
        "colab": {
          "base_uri": "https://localhost:8080/"
        },
        "id": "uMaDg-yXWCSS",
        "outputId": "2df88103-9a8c-424f-9d40-ba5772f60562"
      },
      "execution_count": null,
      "outputs": [
        {
          "output_type": "execute_result",
          "data": {
            "text/plain": [
              "GridSearchCV(cv=5, estimator=RandomForestClassifier(random_state=33),\n",
              "             param_grid={'max_depth': [2, 4, 8, 16, 32, 64, None],\n",
              "                         'n_estimators': [5, 10, 50, 100, 250, 300, 350, 400,\n",
              "                                          500, 600]})"
            ]
          },
          "metadata": {},
          "execution_count": 28
        }
      ]
    },
    {
      "cell_type": "code",
      "source": [
        "def display(results):\n",
        "    print(f'Best parameters are: {results.best_params_}')\n",
        "    print(\"\\n\")\n",
        "    mean_score = results.cv_results_['mean_test_score']\n",
        "    std_score = results.cv_results_['std_test_score']\n",
        "    params = results.cv_results_['params']\n",
        "    for mean,std,params in zip(mean_score,std_score,params):\n",
        "        print(f'{round(mean,3)} + or -{round(std,3)} for the {params}')\n",
        "\n",
        "display(cv)"
      ],
      "metadata": {
        "id": "aODYt_8pXvB5",
        "colab": {
          "base_uri": "https://localhost:8080/"
        },
        "outputId": "be1a1262-947f-4b7f-8d5b-e926043e91b6"
      },
      "execution_count": null,
      "outputs": [
        {
          "output_type": "stream",
          "name": "stdout",
          "text": [
            "Best parameters are: {'max_depth': 8, 'n_estimators': 250}\n",
            "\n",
            "\n",
            "0.799 + or -0.017 for the {'max_depth': 2, 'n_estimators': 5}\n",
            "0.844 + or -0.023 for the {'max_depth': 2, 'n_estimators': 10}\n",
            "0.852 + or -0.013 for the {'max_depth': 2, 'n_estimators': 50}\n",
            "0.846 + or -0.006 for the {'max_depth': 2, 'n_estimators': 100}\n",
            "0.854 + or -0.008 for the {'max_depth': 2, 'n_estimators': 250}\n",
            "0.854 + or -0.013 for the {'max_depth': 2, 'n_estimators': 300}\n",
            "0.85 + or -0.013 for the {'max_depth': 2, 'n_estimators': 350}\n",
            "0.849 + or -0.012 for the {'max_depth': 2, 'n_estimators': 400}\n",
            "0.85 + or -0.01 for the {'max_depth': 2, 'n_estimators': 500}\n",
            "0.852 + or -0.014 for the {'max_depth': 2, 'n_estimators': 600}\n",
            "0.829 + or -0.022 for the {'max_depth': 4, 'n_estimators': 5}\n",
            "0.84 + or -0.021 for the {'max_depth': 4, 'n_estimators': 10}\n",
            "0.857 + or -0.021 for the {'max_depth': 4, 'n_estimators': 50}\n",
            "0.86 + or -0.021 for the {'max_depth': 4, 'n_estimators': 100}\n",
            "0.857 + or -0.01 for the {'max_depth': 4, 'n_estimators': 250}\n",
            "0.857 + or -0.008 for the {'max_depth': 4, 'n_estimators': 300}\n",
            "0.854 + or -0.008 for the {'max_depth': 4, 'n_estimators': 350}\n",
            "0.855 + or -0.004 for the {'max_depth': 4, 'n_estimators': 400}\n",
            "0.854 + or -0.006 for the {'max_depth': 4, 'n_estimators': 500}\n",
            "0.852 + or -0.005 for the {'max_depth': 4, 'n_estimators': 600}\n",
            "0.827 + or -0.03 for the {'max_depth': 8, 'n_estimators': 5}\n",
            "0.84 + or -0.013 for the {'max_depth': 8, 'n_estimators': 10}\n",
            "0.857 + or -0.011 for the {'max_depth': 8, 'n_estimators': 50}\n",
            "0.863 + or -0.019 for the {'max_depth': 8, 'n_estimators': 100}\n",
            "0.864 + or -0.016 for the {'max_depth': 8, 'n_estimators': 250}\n",
            "0.864 + or -0.017 for the {'max_depth': 8, 'n_estimators': 300}\n",
            "0.861 + or -0.017 for the {'max_depth': 8, 'n_estimators': 350}\n",
            "0.858 + or -0.015 for the {'max_depth': 8, 'n_estimators': 400}\n",
            "0.86 + or -0.013 for the {'max_depth': 8, 'n_estimators': 500}\n",
            "0.857 + or -0.015 for the {'max_depth': 8, 'n_estimators': 600}\n",
            "0.844 + or -0.009 for the {'max_depth': 16, 'n_estimators': 5}\n",
            "0.85 + or -0.025 for the {'max_depth': 16, 'n_estimators': 10}\n",
            "0.854 + or -0.015 for the {'max_depth': 16, 'n_estimators': 50}\n",
            "0.857 + or -0.018 for the {'max_depth': 16, 'n_estimators': 100}\n",
            "0.86 + or -0.013 for the {'max_depth': 16, 'n_estimators': 250}\n",
            "0.858 + or -0.015 for the {'max_depth': 16, 'n_estimators': 300}\n",
            "0.857 + or -0.013 for the {'max_depth': 16, 'n_estimators': 350}\n",
            "0.861 + or -0.012 for the {'max_depth': 16, 'n_estimators': 400}\n",
            "0.86 + or -0.013 for the {'max_depth': 16, 'n_estimators': 500}\n",
            "0.858 + or -0.01 for the {'max_depth': 16, 'n_estimators': 600}\n",
            "0.844 + or -0.009 for the {'max_depth': 32, 'n_estimators': 5}\n",
            "0.85 + or -0.025 for the {'max_depth': 32, 'n_estimators': 10}\n",
            "0.854 + or -0.015 for the {'max_depth': 32, 'n_estimators': 50}\n",
            "0.857 + or -0.018 for the {'max_depth': 32, 'n_estimators': 100}\n",
            "0.86 + or -0.013 for the {'max_depth': 32, 'n_estimators': 250}\n",
            "0.858 + or -0.015 for the {'max_depth': 32, 'n_estimators': 300}\n",
            "0.857 + or -0.013 for the {'max_depth': 32, 'n_estimators': 350}\n",
            "0.861 + or -0.012 for the {'max_depth': 32, 'n_estimators': 400}\n",
            "0.86 + or -0.013 for the {'max_depth': 32, 'n_estimators': 500}\n",
            "0.858 + or -0.01 for the {'max_depth': 32, 'n_estimators': 600}\n",
            "0.844 + or -0.009 for the {'max_depth': 64, 'n_estimators': 5}\n",
            "0.85 + or -0.025 for the {'max_depth': 64, 'n_estimators': 10}\n",
            "0.854 + or -0.015 for the {'max_depth': 64, 'n_estimators': 50}\n",
            "0.857 + or -0.018 for the {'max_depth': 64, 'n_estimators': 100}\n",
            "0.86 + or -0.013 for the {'max_depth': 64, 'n_estimators': 250}\n",
            "0.858 + or -0.015 for the {'max_depth': 64, 'n_estimators': 300}\n",
            "0.857 + or -0.013 for the {'max_depth': 64, 'n_estimators': 350}\n",
            "0.861 + or -0.012 for the {'max_depth': 64, 'n_estimators': 400}\n",
            "0.86 + or -0.013 for the {'max_depth': 64, 'n_estimators': 500}\n",
            "0.858 + or -0.01 for the {'max_depth': 64, 'n_estimators': 600}\n",
            "0.844 + or -0.009 for the {'max_depth': None, 'n_estimators': 5}\n",
            "0.85 + or -0.025 for the {'max_depth': None, 'n_estimators': 10}\n",
            "0.854 + or -0.015 for the {'max_depth': None, 'n_estimators': 50}\n",
            "0.857 + or -0.018 for the {'max_depth': None, 'n_estimators': 100}\n",
            "0.86 + or -0.013 for the {'max_depth': None, 'n_estimators': 250}\n",
            "0.858 + or -0.015 for the {'max_depth': None, 'n_estimators': 300}\n",
            "0.857 + or -0.013 for the {'max_depth': None, 'n_estimators': 350}\n",
            "0.861 + or -0.012 for the {'max_depth': None, 'n_estimators': 400}\n",
            "0.86 + or -0.013 for the {'max_depth': None, 'n_estimators': 500}\n",
            "0.858 + or -0.01 for the {'max_depth': None, 'n_estimators': 600}\n"
          ]
        }
      ]
    },
    {
      "cell_type": "markdown",
      "source": [
        "# Plot betweem n_estimator v/s Accuracy"
      ],
      "metadata": {
        "id": "gO-BPZQtiDIz"
      }
    },
    {
      "cell_type": "code",
      "source": [
        "hyper_score1 = []\n",
        "n_estimator = [100,200,250,300,350,400,500,600,700,800,900]\n",
        "for i in range(len(n_estimator)):\n",
        "  clf =   RandomForestClassifier(n_estimators = n_estimator[i])\n",
        "  clf.fit(x_train,y_train)\n",
        "  y_pred = clf.predict(x_test)\n",
        "  hyper_score1.append(accuracy_score(y_test,y_pred))\n",
        "print(hyper_score1)\n",
        "plt.plot(n_estimator,hyper_score1,color='b',marker='o')\n",
        "plt.xlabel('n_estimator')\n",
        "plt.ylabel('acc_score')"
      ],
      "metadata": {
        "colab": {
          "base_uri": "https://localhost:8080/",
          "height": 337
        },
        "id": "cASD2n75Y19C",
        "outputId": "ee7b9edf-564e-40b4-d3ef-fec4e5aa56d7"
      },
      "execution_count": null,
      "outputs": [
        {
          "output_type": "stream",
          "name": "stdout",
          "text": [
            "[0.8659420289855072, 0.8586956521739131, 0.8840579710144928, 0.8659420289855072, 0.8659420289855072, 0.8731884057971014, 0.8768115942028986, 0.8659420289855072, 0.8659420289855072, 0.8659420289855072, 0.8659420289855072]\n"
          ]
        },
        {
          "output_type": "execute_result",
          "data": {
            "text/plain": [
              "Text(0, 0.5, 'acc_score')"
            ]
          },
          "metadata": {},
          "execution_count": 202
        },
        {
          "output_type": "display_data",
          "data": {
            "text/plain": [
              "<Figure size 432x288 with 1 Axes>"
            ],
            "image/png": "[encoded data removed]"
          },
          "metadata": {
            "needs_background": "light"
          }
        }
      ]
    },
    {
      "cell_type": "markdown",
      "source": [
        "# Plot betweem max_depth v/s Accuracy"
      ],
      "metadata": {
        "id": "E1wG-5YgiIFM"
      }
    },
    {
      "cell_type": "code",
      "source": [
        "hyper_score2 = []\n",
        "maxDepth = [4,5,6,8,10,12,14,16,18,22,26,30,32,36,38,40]\n",
        "for i in range(len(maxDepth)):\n",
        "  clf =   RandomForestClassifier(max_depth = maxDepth[i])\n",
        "  clf.fit(x_train,y_train)\n",
        "  y_pred = clf.predict(x_test)\n",
        "  hyper_score2.append(accuracy_score(y_test,y_pred))\n",
        "print(hyper_score2)\n",
        "plt.plot(maxDepth,hyper_score2,color='r',marker='o')\n",
        "plt.xlabel('maxDepth')\n",
        "plt.ylabel('acc_score')"
      ],
      "metadata": {
        "colab": {
          "base_uri": "https://localhost:8080/",
          "height": 337
        },
        "id": "8CwTiz7Req0L",
        "outputId": "35351e22-838e-4a65-c53a-d8f9a5bb21f7"
      },
      "execution_count": null,
      "outputs": [
        {
          "output_type": "stream",
          "name": "stdout",
          "text": [
            "[0.8695652173913043, 0.8695652173913043, 0.8731884057971014, 0.8695652173913043, 0.8659420289855072, 0.8659420289855072, 0.8623188405797102, 0.8659420289855072, 0.8840579710144928, 0.8659420289855072, 0.8768115942028986, 0.8659420289855072, 0.8623188405797102, 0.8695652173913043, 0.8659420289855072, 0.8695652173913043]\n"
          ]
        },
        {
          "output_type": "execute_result",
          "data": {
            "text/plain": [
              "Text(0, 0.5, 'acc_score')"
            ]
          },
          "metadata": {},
          "execution_count": 205
        },
        {
          "output_type": "display_data",
          "data": {
            "text/plain": [
              "<Figure size 432x288 with 1 Axes>"
            ],
            "image/png": "[encoded data removed]"
          },
          "metadata": {
            "needs_background": "light"
          }
        }
      ]
    },
    {
      "cell_type": "markdown",
      "source": [
        "# Plot betweem min_samples_leaf v/s Accuracy"
      ],
      "metadata": {
        "id": "LRztTdtXiO9y"
      }
    },
    {
      "cell_type": "code",
      "source": [
        "hyper_score3 = []\n",
        "minSampleLeaf = [4,5,6,8,10,12,14,16,18,22,26,30,32,36,38,40]\n",
        "for i in range(len(minSampleLeaf)):\n",
        "  clf =   RandomForestClassifier(min_samples_leaf = minSampleLeaf[i])\n",
        "  clf.fit(x_train,y_train)\n",
        "  y_pred = clf.predict(x_test)\n",
        "  hyper_score3.append(accuracy_score(y_test,y_pred))\n",
        "print(hyper_score3)\n",
        "plt.plot(minSampleLeaf,hyper_score3,color='g',marker='o')\n",
        "plt.xlabel('minSampleLeaf')\n",
        "plt.ylabel('acc_score')"
      ],
      "metadata": {
        "colab": {
          "base_uri": "https://localhost:8080/",
          "height": 334
        },
        "id": "kMuQQkkFfbPE",
        "outputId": "589ed746-74ea-430b-e746-20e025442cf2"
      },
      "execution_count": null,
      "outputs": [
        {
          "output_type": "stream",
          "name": "stdout",
          "text": [
            "[0.8695652173913043, 0.8659420289855072, 0.8731884057971014, 0.8695652173913043, 0.8623188405797102, 0.8731884057971014, 0.8659420289855072, 0.8695652173913043, 0.8586956521739131, 0.8623188405797102, 0.8586956521739131, 0.8623188405797102, 0.8695652173913043, 0.8731884057971014, 0.8514492753623188, 0.8514492753623188]\n"
          ]
        },
        {
          "output_type": "execute_result",
          "data": {
            "text/plain": [
              "Text(0, 0.5, 'acc_score')"
            ]
          },
          "metadata": {},
          "execution_count": 207
        },
        {
          "output_type": "display_data",
          "data": {
            "text/plain": [
              "<Figure size 432x288 with 1 Axes>"
            ],
            "image/png": "[encoded data removed]"
          },
          "metadata": {
            "needs_background": "light"
          }
        }
      ]
    },
    {
      "cell_type": "markdown",
      "source": [
        "# Plot betweem max_features v/s Accuracy"
      ],
      "metadata": {
        "id": "fQCxzoCCibOX"
      }
    },
    {
      "cell_type": "code",
      "source": [
        "hyper_score4 = []\n",
        "max_feat = ['sqrt','log2','auto']\n",
        "for i in range(len(max_feat)):\n",
        "  clf =   RandomForestClassifier(max_features = max_feat[i])\n",
        "  clf.fit(x_train,y_train)\n",
        "  y_pred = clf.predict(x_test)\n",
        "  hyper_score4.append(accuracy_score(y_test,y_pred))\n",
        "print(hyper_score4)\n",
        "plt.plot(max_feat,hyper_score4,color='y',marker='o')\n",
        "plt.xlabel('max_feat')\n",
        "plt.ylabel('acc_score')"
      ],
      "metadata": {
        "colab": {
          "base_uri": "https://localhost:8080/",
          "height": 314
        },
        "id": "MTWjT-27fzq8",
        "outputId": "c0e95fc6-9add-47a2-cf0f-42db9dbb01c9"
      },
      "execution_count": null,
      "outputs": [
        {
          "output_type": "stream",
          "name": "stdout",
          "text": [
            "[0.8514492753623188, 0.8804347826086957, 0.8623188405797102]\n"
          ]
        },
        {
          "output_type": "execute_result",
          "data": {
            "text/plain": [
              "Text(0, 0.5, 'acc_score')"
            ]
          },
          "metadata": {},
          "execution_count": 209
        },
        {
          "output_type": "display_data",
          "data": {
            "text/plain": [
              "<Figure size 432x288 with 1 Axes>"
            ],
            "image/png": "[encoded data removed]"
          },
          "metadata": {
            "needs_background": "light"
          }
        }
      ]
    },
    {
      "cell_type": "markdown",
      "source": [
        "# Accuracy after hypertunning the parameters of randomForestClassifier"
      ],
      "metadata": {
        "id": "_Kpqk5FrcrG0"
      }
    },
    {
      "cell_type": "code",
      "source": [
        "classifier = RandomForestClassifier(n_estimators=250,max_depth=18,max_features='log2',min_samples_leaf=6)\n",
        "new_randomForest_pipeline = Pipeline([('RandomForestClassifiers model', classifier)])\n",
        "run_pipeline(new_randomForest_pipeline,x_train, y_train,x_test,y_test)"
      ],
      "metadata": {
        "colab": {
          "base_uri": "https://localhost:8080/"
        },
        "id": "XCb_9YUuggse",
        "outputId": "4579461d-9ee0-44d1-952d-5e754edc66e8"
      },
      "execution_count": null,
      "outputs": [
        {
          "output_type": "stream",
          "name": "stdout",
          "text": [
            "accuracy:  0.8804347826086957\n",
            "confusion matrices: \n",
            "[[[132  21]\n",
            "  [ 12 111]]\n",
            "\n",
            " [[111  12]\n",
            "  [ 21 132]]]\n",
            "classification_report: \n",
            "              precision    recall  f1-score   support\n",
            "\n",
            "           0       0.84      0.90      0.87       123\n",
            "           1       0.92      0.86      0.89       153\n",
            "\n",
            "    accuracy                           0.88       276\n",
            "   macro avg       0.88      0.88      0.88       276\n",
            "weighted avg       0.88      0.88      0.88       276\n",
            "\n"
          ]
        }
      ]
    },
    {
      "cell_type": "markdown",
      "source": [
        "#HyperTuning of MLPClassifier"
      ],
      "metadata": {
        "id": "0QSc7ONsiJT1"
      }
    },
    {
      "cell_type": "code",
      "source": [
        "rfc = MLPClassifier()\n",
        "parameters = {\n",
        "    \"activation\":['identity', 'logistic', 'tanh', 'relu'],\n",
        "    \"solver\":['lbfgs', 'sgd', 'adam'],}\n",
        "cv_mlp = GridSearchCV(rfc,parameters,cv=5)\n",
        "cv_mlp.fit(x_train,y_train.values.ravel())\n",
        "display(cv_mlp)"
      ],
      "metadata": {
        "colab": {
          "base_uri": "https://localhost:8080/"
        },
        "id": "0OTrTiy5iI2z",
        "outputId": "4d6141f9-cdeb-4f67-bad8-2e1ab9de9b04"
      },
      "execution_count": null,
      "outputs": [
        {
          "output_type": "stream",
          "name": "stdout",
          "text": [
            "Best parameters are: {'activation': 'relu', 'solver': 'adam'}\n",
            "\n",
            "\n",
            "0.841 + or -0.021 for the {'activation': 'identity', 'solver': 'lbfgs'}\n",
            "0.849 + or -0.027 for the {'activation': 'identity', 'solver': 'sgd'}\n",
            "0.841 + or -0.034 for the {'activation': 'identity', 'solver': 'adam'}\n",
            "0.79 + or -0.023 for the {'activation': 'logistic', 'solver': 'lbfgs'}\n",
            "0.788 + or -0.013 for the {'activation': 'logistic', 'solver': 'sgd'}\n",
            "0.847 + or -0.029 for the {'activation': 'logistic', 'solver': 'adam'}\n",
            "0.787 + or -0.027 for the {'activation': 'tanh', 'solver': 'lbfgs'}\n",
            "0.843 + or -0.019 for the {'activation': 'tanh', 'solver': 'sgd'}\n",
            "0.849 + or -0.022 for the {'activation': 'tanh', 'solver': 'adam'}\n",
            "0.78 + or -0.029 for the {'activation': 'relu', 'solver': 'lbfgs'}\n",
            "0.847 + or -0.02 for the {'activation': 'relu', 'solver': 'sgd'}\n",
            "0.852 + or -0.025 for the {'activation': 'relu', 'solver': 'adam'}\n"
          ]
        }
      ]
    },
    {
      "cell_type": "markdown",
      "source": [
        "# Plot betweem hidden layer v/s Accuracy"
      ],
      "metadata": {
        "id": "EeNED4Wsiukk"
      }
    },
    {
      "cell_type": "code",
      "source": [
        "hyper_score_mlp1 = []\n",
        "hiddenLayer = [50,100,125,200,225,250,300,350,400,450,600]\n",
        "for i in range(len(hiddenLayer)):\n",
        "  clf =   MLPClassifier(hidden_layer_sizes = hiddenLayer[i],activation= 'relu', solver='adam')\n",
        "  clf.fit(x_train,y_train)\n",
        "  y_pred = clf.predict(x_test)\n",
        "  hyper_score_mlp1.append(accuracy_score(y_test,y_pred))\n",
        "print(hyper_score_mlp1)\n",
        "plt.plot(hiddenLayer,hyper_score_mlp1,color='y',marker='o')\n",
        "plt.xlabel('hiddenLayer')\n",
        "plt.ylabel('acc_score')"
      ],
      "metadata": {
        "colab": {
          "base_uri": "https://localhost:8080/",
          "height": 334
        },
        "id": "lGBHKdU8klhf",
        "outputId": "d68e2fcc-3009-45fa-9bbe-deebfe2a60fe"
      },
      "execution_count": null,
      "outputs": [
        {
          "output_type": "stream",
          "name": "stdout",
          "text": [
            "[0.8478260869565217, 0.855072463768116, 0.855072463768116, 0.855072463768116, 0.8514492753623188, 0.8659420289855072, 0.8623188405797102, 0.8623188405797102, 0.8586956521739131, 0.8623188405797102, 0.855072463768116]\n"
          ]
        },
        {
          "output_type": "execute_result",
          "data": {
            "text/plain": [
              "Text(0, 0.5, 'acc_score')"
            ]
          },
          "metadata": {},
          "execution_count": 284
        },
        {
          "output_type": "display_data",
          "data": {
            "text/plain": [
              "<Figure size 432x288 with 1 Axes>"
            ],
            "image/png": "[encoded data removed]"
          },
          "metadata": {
            "needs_background": "light"
          }
        }
      ]
    },
    {
      "cell_type": "markdown",
      "source": [
        "# Plot betweem max_iteration v/s Accuracy"
      ],
      "metadata": {
        "id": "KTJssNy2i0D3"
      }
    },
    {
      "cell_type": "code",
      "source": [
        "hyper_score_mlp2 = []\n",
        "max_iteration = [100,200,300,400,450,600,700,800,900,1000]\n",
        "for i in range(len(max_iteration)):\n",
        "  clf =   MLPClassifier(max_iter = max_iteration[i])\n",
        "  clf.fit(x_train,y_train)\n",
        "  y_pred = clf.predict(x_test)\n",
        "  hyper_score_mlp2.append(accuracy_score(y_test,y_pred))\n",
        "print(hyper_score_mlp2)\n",
        "plt.plot(max_iteration,hyper_score_mlp2,color='b',marker='o')\n",
        "plt.xlabel('max_iteration')\n",
        "plt.ylabel('acc_score')"
      ],
      "metadata": {
        "colab": {
          "base_uri": "https://localhost:8080/",
          "height": 334
        },
        "id": "RyITts2CoJTf",
        "outputId": "ebe78364-b83e-4683-ae45-cc8d1fede23f"
      },
      "execution_count": null,
      "outputs": [
        {
          "output_type": "stream",
          "name": "stdout",
          "text": [
            "[0.8478260869565217, 0.8442028985507246, 0.8478260869565217, 0.8586956521739131, 0.8659420289855072, 0.855072463768116, 0.855072463768116, 0.8442028985507246, 0.855072463768116, 0.855072463768116]\n"
          ]
        },
        {
          "output_type": "execute_result",
          "data": {
            "text/plain": [
              "Text(0, 0.5, 'acc_score')"
            ]
          },
          "metadata": {},
          "execution_count": 294
        },
        {
          "output_type": "display_data",
          "data": {
            "text/plain": [
              "<Figure size 432x288 with 1 Axes>"
            ],
            "image/png": "[encoded data removed]"
          },
          "metadata": {
            "needs_background": "light"
          }
        }
      ]
    },
    {
      "cell_type": "markdown",
      "source": [
        "# Plot betweem learning_rate v/s Accuracy"
      ],
      "metadata": {
        "id": "MuUZvhZci40k"
      }
    },
    {
      "cell_type": "code",
      "source": [
        "hyper_score_mlp3 = []\n",
        "learningRate = [0.001,0.002,0.003,0.005,0.007,0.010,0.03,0.05,0.07,0.09,0.1]\n",
        "for i in range(len(learningRate)):\n",
        "  clf =   MLPClassifier(learning_rate_init = learningRate[i])\n",
        "  clf.fit(x_train,y_train)\n",
        "  y_pred = clf.predict(x_test)\n",
        "  hyper_score_mlp3.append(accuracy_score(y_test,y_pred))\n",
        "print(hyper_score_mlp3)\n",
        "plt.plot(learningRate,hyper_score_mlp3,color='r',marker='o')\n",
        "plt.xlabel('learningRate')\n",
        "plt.ylabel('acc_score')"
      ],
      "metadata": {
        "colab": {
          "base_uri": "https://localhost:8080/",
          "height": 337
        },
        "id": "YKnVJ8Gfo8eH",
        "outputId": "5ca239b5-4a8e-4db1-9506-a79c9185c2ad"
      },
      "execution_count": null,
      "outputs": [
        {
          "output_type": "stream",
          "name": "stdout",
          "text": [
            "[0.8514492753623188, 0.8442028985507246, 0.8586956521739131, 0.8405797101449275, 0.8478260869565217, 0.8297101449275363, 0.8405797101449275, 0.8586956521739131, 0.8333333333333334, 0.8405797101449275, 0.8586956521739131]\n"
          ]
        },
        {
          "output_type": "execute_result",
          "data": {
            "text/plain": [
              "Text(0, 0.5, 'acc_score')"
            ]
          },
          "metadata": {},
          "execution_count": 291
        },
        {
          "output_type": "display_data",
          "data": {
            "text/plain": [
              "<Figure size 432x288 with 1 Axes>"
            ],
            "image/png": "[encoded data removed]"
          },
          "metadata": {
            "needs_background": "light"
          }
        }
      ]
    },
    {
      "cell_type": "markdown",
      "source": [
        "# Accuracy after hypertuning the parameters of MLPClassifier"
      ],
      "metadata": {
        "id": "iELO9FcBcdcU"
      }
    },
    {
      "cell_type": "code",
      "source": [
        "mlp_classifier = MLPClassifier(activation= 'relu', solver='adam',hidden_layer_sizes=250,max_iter=450)\n",
        "new_MLP_pipeline = Pipeline([('MLPClassifier model', mlp_classifier)])\n",
        "run_pipeline(new_MLP_pipeline,x_train, y_train,x_test,y_test)"
      ],
      "metadata": {
        "colab": {
          "base_uri": "https://localhost:8080/"
        },
        "id": "0HPiRsWrp3A1",
        "outputId": "10a87697-78d0-4818-ed5e-a5aafb0f83bd"
      },
      "execution_count": null,
      "outputs": [
        {
          "output_type": "stream",
          "name": "stdout",
          "text": [
            "accuracy:  0.8731884057971014\n",
            "confusion matrices: \n",
            "[[[129  24]\n",
            "  [ 11 112]]\n",
            "\n",
            " [[112  11]\n",
            "  [ 24 129]]]\n",
            "classification_report: \n",
            "              precision    recall  f1-score   support\n",
            "\n",
            "           0       0.82      0.91      0.86       123\n",
            "           1       0.92      0.84      0.88       153\n",
            "\n",
            "    accuracy                           0.87       276\n",
            "   macro avg       0.87      0.88      0.87       276\n",
            "weighted avg       0.88      0.87      0.87       276\n",
            "\n"
          ]
        }
      ]
    },
    {
      "cell_type": "markdown",
      "source": [
        "#HyperTuning of XGBClassiifier"
      ],
      "metadata": {
        "id": "E_2mWBnqszTg"
      }
    },
    {
      "cell_type": "code",
      "source": [
        "xgbc = XGBClassifier()\n",
        "parameters = {\n",
        "    \"eta\":[0.01,0.02,0.03,0.05,0.07,0.09,0.1],\n",
        "    \"min_child_weight\":[1,2,4,6,8,9,12],}\n",
        "cv_xgbc = GridSearchCV(xgbc,parameters,cv=5)\n",
        "cv_xgbc.fit(x_train,y_train.values.ravel())\n",
        "display(cv_xgbc)"
      ],
      "metadata": {
        "id": "LPrsLg9Es9V-",
        "colab": {
          "base_uri": "https://localhost:8080/"
        },
        "outputId": "08254b4b-f204-4d49-dd46-9c1e7545b2e8"
      },
      "execution_count": null,
      "outputs": [
        {
          "output_type": "stream",
          "name": "stdout",
          "text": [
            "Best parameters are: {'eta': 0.01, 'min_child_weight': 4}\n",
            "\n",
            "\n",
            "0.858 + or -0.017 for the {'eta': 0.01, 'min_child_weight': 1}\n",
            "0.866 + or -0.018 for the {'eta': 0.01, 'min_child_weight': 2}\n",
            "0.869 + or -0.027 for the {'eta': 0.01, 'min_child_weight': 4}\n",
            "0.861 + or -0.025 for the {'eta': 0.01, 'min_child_weight': 6}\n",
            "0.858 + or -0.025 for the {'eta': 0.01, 'min_child_weight': 8}\n",
            "0.86 + or -0.028 for the {'eta': 0.01, 'min_child_weight': 9}\n",
            "0.855 + or -0.022 for the {'eta': 0.01, 'min_child_weight': 12}\n",
            "0.858 + or -0.017 for the {'eta': 0.02, 'min_child_weight': 1}\n",
            "0.866 + or -0.018 for the {'eta': 0.02, 'min_child_weight': 2}\n",
            "0.869 + or -0.027 for the {'eta': 0.02, 'min_child_weight': 4}\n",
            "0.861 + or -0.025 for the {'eta': 0.02, 'min_child_weight': 6}\n",
            "0.858 + or -0.025 for the {'eta': 0.02, 'min_child_weight': 8}\n",
            "0.86 + or -0.028 for the {'eta': 0.02, 'min_child_weight': 9}\n",
            "0.855 + or -0.022 for the {'eta': 0.02, 'min_child_weight': 12}\n",
            "0.858 + or -0.017 for the {'eta': 0.03, 'min_child_weight': 1}\n",
            "0.866 + or -0.018 for the {'eta': 0.03, 'min_child_weight': 2}\n",
            "0.869 + or -0.027 for the {'eta': 0.03, 'min_child_weight': 4}\n",
            "0.861 + or -0.025 for the {'eta': 0.03, 'min_child_weight': 6}\n",
            "0.858 + or -0.025 for the {'eta': 0.03, 'min_child_weight': 8}\n",
            "0.86 + or -0.028 for the {'eta': 0.03, 'min_child_weight': 9}\n",
            "0.855 + or -0.022 for the {'eta': 0.03, 'min_child_weight': 12}\n",
            "0.858 + or -0.017 for the {'eta': 0.05, 'min_child_weight': 1}\n",
            "0.866 + or -0.018 for the {'eta': 0.05, 'min_child_weight': 2}\n",
            "0.869 + or -0.027 for the {'eta': 0.05, 'min_child_weight': 4}\n",
            "0.861 + or -0.025 for the {'eta': 0.05, 'min_child_weight': 6}\n",
            "0.858 + or -0.025 for the {'eta': 0.05, 'min_child_weight': 8}\n",
            "0.86 + or -0.028 for the {'eta': 0.05, 'min_child_weight': 9}\n",
            "0.855 + or -0.022 for the {'eta': 0.05, 'min_child_weight': 12}\n",
            "0.858 + or -0.017 for the {'eta': 0.07, 'min_child_weight': 1}\n",
            "0.866 + or -0.018 for the {'eta': 0.07, 'min_child_weight': 2}\n",
            "0.869 + or -0.027 for the {'eta': 0.07, 'min_child_weight': 4}\n",
            "0.861 + or -0.025 for the {'eta': 0.07, 'min_child_weight': 6}\n",
            "0.858 + or -0.025 for the {'eta': 0.07, 'min_child_weight': 8}\n",
            "0.86 + or -0.028 for the {'eta': 0.07, 'min_child_weight': 9}\n",
            "0.855 + or -0.022 for the {'eta': 0.07, 'min_child_weight': 12}\n",
            "0.858 + or -0.017 for the {'eta': 0.09, 'min_child_weight': 1}\n",
            "0.866 + or -0.018 for the {'eta': 0.09, 'min_child_weight': 2}\n",
            "0.869 + or -0.027 for the {'eta': 0.09, 'min_child_weight': 4}\n",
            "0.861 + or -0.025 for the {'eta': 0.09, 'min_child_weight': 6}\n",
            "0.858 + or -0.025 for the {'eta': 0.09, 'min_child_weight': 8}\n",
            "0.86 + or -0.028 for the {'eta': 0.09, 'min_child_weight': 9}\n",
            "0.855 + or -0.022 for the {'eta': 0.09, 'min_child_weight': 12}\n",
            "0.858 + or -0.017 for the {'eta': 0.1, 'min_child_weight': 1}\n",
            "0.866 + or -0.018 for the {'eta': 0.1, 'min_child_weight': 2}\n",
            "0.869 + or -0.027 for the {'eta': 0.1, 'min_child_weight': 4}\n",
            "0.861 + or -0.025 for the {'eta': 0.1, 'min_child_weight': 6}\n",
            "0.858 + or -0.025 for the {'eta': 0.1, 'min_child_weight': 8}\n",
            "0.86 + or -0.028 for the {'eta': 0.1, 'min_child_weight': 9}\n",
            "0.855 + or -0.022 for the {'eta': 0.1, 'min_child_weight': 12}\n"
          ]
        }
      ]
    },
    {
      "cell_type": "markdown",
      "source": [
        "# Plot betweem learning_rate v/s Accuracy"
      ],
      "metadata": {
        "id": "lW5jlnDPjFh6"
      }
    },
    {
      "cell_type": "code",
      "source": [
        "hyper_score_xgbc1 = []\n",
        "learn_rate = [0.05, 0.1, 0.15, 0.2, 0.25]\n",
        "for i in range(len(learn_rate)):\n",
        "  clf =   XGBClassifier(learning_rate = learn_rate[i])\n",
        "  clf.fit(x_train,y_train)\n",
        "  y_pred = clf.predict(x_test)\n",
        "  hyper_score_xgbc1.append(accuracy_score(y_test,y_pred))\n",
        "print(hyper_score_xgbc1)\n",
        "plt.plot(learn_rate,hyper_score_xgbc1,color='r',marker='o')\n",
        "plt.xlabel('learn_rate')\n",
        "plt.ylabel('acc_score')"
      ],
      "metadata": {
        "colab": {
          "base_uri": "https://localhost:8080/",
          "height": 314
        },
        "id": "5fSVPIvEsaFF",
        "outputId": "2ffd9c28-1afa-4b2c-bcdb-91624bb76441"
      },
      "execution_count": null,
      "outputs": [
        {
          "output_type": "stream",
          "name": "stdout",
          "text": [
            "[0.855072463768116, 0.8623188405797102, 0.8695652173913043, 0.8514492753623188, 0.855072463768116]\n"
          ]
        },
        {
          "output_type": "execute_result",
          "data": {
            "text/plain": [
              "Text(0, 0.5, 'acc_score')"
            ]
          },
          "metadata": {},
          "execution_count": 31
        },
        {
          "output_type": "display_data",
          "data": {
            "text/plain": [
              "<Figure size 432x288 with 1 Axes>"
            ],
            "image/png": "[encoded data removed]"
          },
          "metadata": {
            "needs_background": "light"
          }
        }
      ]
    },
    {
      "cell_type": "markdown",
      "source": [
        "# Plot betweem n_estimator v/s Accuracy"
      ],
      "metadata": {
        "id": "80J1h-m6jKh_"
      }
    },
    {
      "cell_type": "code",
      "source": [
        "hyper_score_xgbc2 = []\n",
        "n_estimator = [100,200,300,400,500,600,700,800,900]\n",
        "for i in range(len(n_estimator)):\n",
        "  clf =   XGBClassifier(n_estimators= n_estimator[i])\n",
        "  clf.fit(x_train,y_train)\n",
        "  y_pred = clf.predict(x_test)\n",
        "  hyper_score_xgbc2.append(accuracy_score(y_test,y_pred))\n",
        "print(hyper_score_xgbc2)\n",
        "plt.plot(n_estimator,hyper_score_xgbc2,color='b',marker='o')\n",
        "plt.xlabel('n_estimator')\n",
        "plt.ylabel('acc_score')"
      ],
      "metadata": {
        "colab": {
          "base_uri": "https://localhost:8080/",
          "height": 334
        },
        "id": "4zavhl49uZ31",
        "outputId": "2d6b6b03-40d0-49d3-dee6-12f76c1a5fcf"
      },
      "execution_count": null,
      "outputs": [
        {
          "output_type": "stream",
          "name": "stdout",
          "text": [
            "[0.8623188405797102, 0.8623188405797102, 0.8405797101449275, 0.8514492753623188, 0.855072463768116, 0.8442028985507246, 0.8369565217391305, 0.8333333333333334, 0.8260869565217391]\n"
          ]
        },
        {
          "output_type": "execute_result",
          "data": {
            "text/plain": [
              "Text(0, 0.5, 'acc_score')"
            ]
          },
          "metadata": {},
          "execution_count": 62
        },
        {
          "output_type": "display_data",
          "data": {
            "text/plain": [
              "<Figure size 432x288 with 1 Axes>"
            ],
            "image/png": "[encoded data removed]"
          },
          "metadata": {
            "needs_background": "light"
          }
        }
      ]
    },
    {
      "cell_type": "markdown",
      "source": [
        "# Plot betwenn max_depth v/v Accuracy"
      ],
      "metadata": {
        "id": "usP-JoDKjM5B"
      }
    },
    {
      "cell_type": "code",
      "source": [
        "hyper_score_xgbc3 = []\n",
        "maxdepth = [2,4,6,8,10,12]\n",
        "for i in range(len(maxdepth)):\n",
        "  clf =   XGBClassifier(n_estimators=100,eta= 0.01, min_child_weight = 4,colsample_bytree =0.3,max_depth= maxdepth[i])\n",
        "  clf.fit(x_train,y_train)\n",
        "  y_pred = clf.predict(x_test)\n",
        "  hyper_score_xgbc3.append(accuracy_score(y_test,y_pred))\n",
        "print(hyper_score_xgbc3)\n",
        "plt.plot(maxdepth,hyper_score_xgbc3,color='g',marker='o')\n",
        "plt.xlabel('maxdepth')\n",
        "plt.ylabel('acc_score')"
      ],
      "metadata": {
        "colab": {
          "base_uri": "https://localhost:8080/",
          "height": 316
        },
        "id": "qKzXv64ovJxc",
        "outputId": "2bf888df-4880-4593-b136-60cfa44328ab"
      },
      "execution_count": null,
      "outputs": [
        {
          "output_type": "stream",
          "name": "stdout",
          "text": [
            "[0.8840579710144928, 0.8659420289855072, 0.8659420289855072, 0.8659420289855072, 0.8586956521739131, 0.8586956521739131]\n"
          ]
        },
        {
          "output_type": "execute_result",
          "data": {
            "text/plain": [
              "Text(0, 0.5, 'acc_score')"
            ]
          },
          "metadata": {},
          "execution_count": 60
        },
        {
          "output_type": "display_data",
          "data": {
            "text/plain": [
              "<Figure size 432x288 with 1 Axes>"
            ],
            "image/png": "[encoded data removed]"
          },
          "metadata": {
            "needs_background": "light"
          }
        }
      ]
    },
    {
      "cell_type": "markdown",
      "source": [
        "# Plot betwenn cosamp_bytree v/v Accuracy"
      ],
      "metadata": {
        "id": "qbBLxlnekUge"
      }
    },
    {
      "cell_type": "code",
      "source": [
        "hyper_score_xgbc4 = []\n",
        "cosamp_bytree = [0.2,0.3,0.4,0.6,0.8,1]\n",
        "for i in range(len(cosamp_bytree)):\n",
        "  clf =   XGBClassifier(n_estimators=100,eta= 0.01, min_child_weight = 4,max_depth=2,colsample_bytree= cosamp_bytree[i],learning_rate=0.15)\n",
        "  clf.fit(x_train,y_train)\n",
        "  y_pred = clf.predict(x_test)\n",
        "  hyper_score_xgbc4.append(accuracy_score(y_test,y_pred))\n",
        "print(hyper_score_xgbc4)\n",
        "plt.plot(cosamp_bytree,hyper_score_xgbc4,color='y',marker='o')\n",
        "plt.xlabel('cosamp_bytree')\n",
        "plt.ylabel('acc_score')"
      ],
      "metadata": {
        "colab": {
          "base_uri": "https://localhost:8080/",
          "height": 316
        },
        "id": "jWROXEN3wdvD",
        "outputId": "e98eed09-38db-42c0-aafc-a3068b22a3a8"
      },
      "execution_count": null,
      "outputs": [
        {
          "output_type": "stream",
          "name": "stdout",
          "text": [
            "[0.8804347826086957, 0.8840579710144928, 0.8659420289855072, 0.8659420289855072, 0.8586956521739131, 0.855072463768116]\n"
          ]
        },
        {
          "output_type": "execute_result",
          "data": {
            "text/plain": [
              "Text(0, 0.5, 'acc_score')"
            ]
          },
          "metadata": {},
          "execution_count": 63
        },
        {
          "output_type": "display_data",
          "data": {
            "text/plain": [
              "<Figure size 432x288 with 1 Axes>"
            ],
            "image/png": "[encoded data removed]"
          },
          "metadata": {
            "needs_background": "light"
          }
        }
      ]
    },
    {
      "cell_type": "markdown",
      "source": [
        "#Accuracy after hypertuning the parameters of XGBClassifier"
      ],
      "metadata": {
        "id": "9Z9UoAlicNM8"
      }
    },
    {
      "cell_type": "code",
      "source": [
        "xgbc_classifier = XGBClassifier(n_estimators=100,eta= 0.01, min_child_weight = 4,max_depth=2,colsample_bytree =0.3,learning_rate=0.15)\n",
        "new_XGBC_pipeline = Pipeline([('XGBClassifierS model', xgbc_classifier)])\n",
        "run_pipeline(new_XGBC_pipeline,x_train, y_train,x_test,y_test)"
      ],
      "metadata": {
        "colab": {
          "base_uri": "https://localhost:8080/"
        },
        "id": "LRNCYuOMxPDU",
        "outputId": "e5d57069-e0be-4b73-9626-aded7da065ed"
      },
      "execution_count": null,
      "outputs": [
        {
          "output_type": "stream",
          "name": "stdout",
          "text": [
            "accuracy:  0.8840579710144928\n",
            "confusion matrices: \n",
            "[[[132  21]\n",
            "  [ 11 112]]\n",
            "\n",
            " [[112  11]\n",
            "  [ 21 132]]]\n",
            "classification_report: \n",
            "              precision    recall  f1-score   support\n",
            "\n",
            "           0       0.84      0.91      0.87       123\n",
            "           1       0.92      0.86      0.89       153\n",
            "\n",
            "    accuracy                           0.88       276\n",
            "   macro avg       0.88      0.89      0.88       276\n",
            "weighted avg       0.89      0.88      0.88       276\n",
            "\n"
          ]
        }
      ]
    },
    {
      "cell_type": "markdown",
      "source": [
        "#HyperTuning of LogisticRegression"
      ],
      "metadata": {
        "id": "j-W2z9xMw1WM"
      }
    },
    {
      "cell_type": "code",
      "source": [
        "hyper_score_lr2 = []\n",
        "solvers = ['newton-cg', 'lbfgs', 'liblinear', 'sag', 'saga']\n",
        "for i in range(len(solvers)):\n",
        "  print(solvers[i])\n",
        "  clf1 =   LogisticRegression(solver= solvers[i],penalty='l2',C=10)\n",
        "  clf1.fit(x_train,y_train)\n",
        "  y_pred = clf1.predict(x_test)\n",
        "  hyper_score_lr2.append(accuracy_score(y_test,y_pred))\n",
        "print(hyper_score_lr2)\n",
        "plt.plot(solvers,hyper_score_lr2,color='b',marker='o')\n",
        "plt.xlabel('solvers')\n",
        "plt.ylabel('acc_score')"
      ],
      "metadata": {
        "colab": {
          "base_uri": "https://localhost:8080/",
          "height": 401
        },
        "id": "kNXxc7kW159C",
        "outputId": "2bbb7675-cb25-44eb-ff26-6f54ce4fec91"
      },
      "execution_count": null,
      "outputs": [
        {
          "output_type": "stream",
          "name": "stdout",
          "text": [
            "newton-cg\n",
            "lbfgs\n",
            "liblinear\n",
            "sag\n",
            "saga\n",
            "[0.855072463768116, 0.855072463768116, 0.855072463768116, 0.855072463768116, 0.855072463768116]\n"
          ]
        },
        {
          "output_type": "execute_result",
          "data": {
            "text/plain": [
              "Text(0, 0.5, 'acc_score')"
            ]
          },
          "metadata": {},
          "execution_count": 121
        },
        {
          "output_type": "display_data",
          "data": {
            "text/plain": [
              "<Figure size 432x288 with 1 Axes>"
            ],
            "image/png": "[encoded data removed]"
          },
          "metadata": {
            "needs_background": "light"
          }
        }
      ]
    },
    {
      "cell_type": "code",
      "source": [
        "hyper_score_lr1 = []\n",
        "maxIter = [100,200,300,400,500,600,700,800,900]\n",
        "for i in range(len(maxIter)):\n",
        "  reg =   LogisticRegression(max_iter= maxIter[i],multi_class='multinomial')\n",
        "  reg.fit(x_train,y_train)\n",
        "  y_pred = reg.predict(x_test)\n",
        "  hyper_score_lr1.append(accuracy_score(y_test,y_pred))\n",
        "print(hyper_score_lr1)\n",
        "plt.plot(maxIter,hyper_score_lr1,color='b',marker='o')\n",
        "plt.xlabel('maxIter')\n",
        "plt.ylabel('acc_score')"
      ],
      "metadata": {
        "colab": {
          "base_uri": "https://localhost:8080/",
          "height": 334
        },
        "id": "Wxcuv_t4w91B",
        "outputId": "03ddc5a3-6a28-4145-d77b-6116a9be1675"
      },
      "execution_count": null,
      "outputs": [
        {
          "output_type": "stream",
          "name": "stdout",
          "text": [
            "[0.855072463768116, 0.855072463768116, 0.855072463768116, 0.855072463768116, 0.855072463768116, 0.855072463768116, 0.855072463768116, 0.855072463768116, 0.855072463768116]\n"
          ]
        },
        {
          "output_type": "execute_result",
          "data": {
            "text/plain": [
              "Text(0, 0.5, 'acc_score')"
            ]
          },
          "metadata": {},
          "execution_count": 74
        },
        {
          "output_type": "display_data",
          "data": {
            "text/plain": [
              "<Figure size 432x288 with 1 Axes>"
            ],
            "image/png": "[encoded data removed]"
          },
          "metadata": {
            "needs_background": "light"
          }
        }
      ]
    },
    {
      "cell_type": "markdown",
      "source": [
        "#HyperTuning of Support Vector Machine(SVM)"
      ],
      "metadata": {
        "id": "iAZ2oYIq4Vb8"
      }
    },
    {
      "cell_type": "code",
      "source": [
        "svm = SVC()\n",
        "parameters = {\n",
        "    \"decision_function_shape\":['ovo','ovr'],\n",
        "    \"class_weight\":['balanced','dict'],\"C\":[1,2,3,4,5,6],'kernel':['rbf','linear','poly']}\n",
        "cv_svm = GridSearchCV(svm,parameters,cv=5)\n",
        "cv_svm.fit(x_train,y_train.values.ravel())\n",
        "display(cv_svm)"
      ],
      "metadata": {
        "colab": {
          "base_uri": "https://localhost:8080/"
        },
        "id": "bAbQsA6N6MUI",
        "outputId": "6fbf971b-2150-4121-c621-f06912f026e7"
      },
      "execution_count": null,
      "outputs": [
        {
          "output_type": "stream",
          "name": "stdout",
          "text": [
            "Best parameters are: {'C': 2, 'class_weight': 'balanced', 'decision_function_shape': 'ovo', 'kernel': 'rbf'}\n",
            "\n",
            "\n",
            "0.849 + or -0.027 for the {'C': 1, 'class_weight': 'balanced', 'decision_function_shape': 'ovo', 'kernel': 'rbf'}\n",
            "0.832 + or -0.025 for the {'C': 1, 'class_weight': 'balanced', 'decision_function_shape': 'ovo', 'kernel': 'linear'}\n",
            "0.836 + or -0.025 for the {'C': 1, 'class_weight': 'balanced', 'decision_function_shape': 'ovo', 'kernel': 'poly'}\n",
            "0.849 + or -0.027 for the {'C': 1, 'class_weight': 'balanced', 'decision_function_shape': 'ovr', 'kernel': 'rbf'}\n",
            "0.832 + or -0.025 for the {'C': 1, 'class_weight': 'balanced', 'decision_function_shape': 'ovr', 'kernel': 'linear'}\n",
            "0.836 + or -0.025 for the {'C': 1, 'class_weight': 'balanced', 'decision_function_shape': 'ovr', 'kernel': 'poly'}\n",
            "nan + or -nan for the {'C': 1, 'class_weight': 'dict', 'decision_function_shape': 'ovo', 'kernel': 'rbf'}\n",
            "nan + or -nan for the {'C': 1, 'class_weight': 'dict', 'decision_function_shape': 'ovo', 'kernel': 'linear'}\n",
            "nan + or -nan for the {'C': 1, 'class_weight': 'dict', 'decision_function_shape': 'ovo', 'kernel': 'poly'}\n",
            "nan + or -nan for the {'C': 1, 'class_weight': 'dict', 'decision_function_shape': 'ovr', 'kernel': 'rbf'}\n",
            "nan + or -nan for the {'C': 1, 'class_weight': 'dict', 'decision_function_shape': 'ovr', 'kernel': 'linear'}\n",
            "nan + or -nan for the {'C': 1, 'class_weight': 'dict', 'decision_function_shape': 'ovr', 'kernel': 'poly'}\n",
            "0.851 + or -0.02 for the {'C': 2, 'class_weight': 'balanced', 'decision_function_shape': 'ovo', 'kernel': 'rbf'}\n",
            "0.832 + or -0.024 for the {'C': 2, 'class_weight': 'balanced', 'decision_function_shape': 'ovo', 'kernel': 'linear'}\n",
            "0.832 + or -0.024 for the {'C': 2, 'class_weight': 'balanced', 'decision_function_shape': 'ovo', 'kernel': 'poly'}\n",
            "0.851 + or -0.02 for the {'C': 2, 'class_weight': 'balanced', 'decision_function_shape': 'ovr', 'kernel': 'rbf'}\n",
            "0.832 + or -0.024 for the {'C': 2, 'class_weight': 'balanced', 'decision_function_shape': 'ovr', 'kernel': 'linear'}\n",
            "0.832 + or -0.024 for the {'C': 2, 'class_weight': 'balanced', 'decision_function_shape': 'ovr', 'kernel': 'poly'}\n",
            "nan + or -nan for the {'C': 2, 'class_weight': 'dict', 'decision_function_shape': 'ovo', 'kernel': 'rbf'}\n",
            "nan + or -nan for the {'C': 2, 'class_weight': 'dict', 'decision_function_shape': 'ovo', 'kernel': 'linear'}\n",
            "nan + or -nan for the {'C': 2, 'class_weight': 'dict', 'decision_function_shape': 'ovo', 'kernel': 'poly'}\n",
            "nan + or -nan for the {'C': 2, 'class_weight': 'dict', 'decision_function_shape': 'ovr', 'kernel': 'rbf'}\n",
            "nan + or -nan for the {'C': 2, 'class_weight': 'dict', 'decision_function_shape': 'ovr', 'kernel': 'linear'}\n",
            "nan + or -nan for the {'C': 2, 'class_weight': 'dict', 'decision_function_shape': 'ovr', 'kernel': 'poly'}\n",
            "0.841 + or -0.02 for the {'C': 3, 'class_weight': 'balanced', 'decision_function_shape': 'ovo', 'kernel': 'rbf'}\n",
            "0.832 + or -0.024 for the {'C': 3, 'class_weight': 'balanced', 'decision_function_shape': 'ovo', 'kernel': 'linear'}\n",
            "0.83 + or -0.023 for the {'C': 3, 'class_weight': 'balanced', 'decision_function_shape': 'ovo', 'kernel': 'poly'}\n",
            "0.841 + or -0.02 for the {'C': 3, 'class_weight': 'balanced', 'decision_function_shape': 'ovr', 'kernel': 'rbf'}\n",
            "0.832 + or -0.024 for the {'C': 3, 'class_weight': 'balanced', 'decision_function_shape': 'ovr', 'kernel': 'linear'}\n",
            "0.83 + or -0.023 for the {'C': 3, 'class_weight': 'balanced', 'decision_function_shape': 'ovr', 'kernel': 'poly'}\n",
            "nan + or -nan for the {'C': 3, 'class_weight': 'dict', 'decision_function_shape': 'ovo', 'kernel': 'rbf'}\n",
            "nan + or -nan for the {'C': 3, 'class_weight': 'dict', 'decision_function_shape': 'ovo', 'kernel': 'linear'}\n",
            "nan + or -nan for the {'C': 3, 'class_weight': 'dict', 'decision_function_shape': 'ovo', 'kernel': 'poly'}\n",
            "nan + or -nan for the {'C': 3, 'class_weight': 'dict', 'decision_function_shape': 'ovr', 'kernel': 'rbf'}\n",
            "nan + or -nan for the {'C': 3, 'class_weight': 'dict', 'decision_function_shape': 'ovr', 'kernel': 'linear'}\n",
            "nan + or -nan for the {'C': 3, 'class_weight': 'dict', 'decision_function_shape': 'ovr', 'kernel': 'poly'}\n",
            "0.837 + or -0.018 for the {'C': 4, 'class_weight': 'balanced', 'decision_function_shape': 'ovo', 'kernel': 'rbf'}\n",
            "0.833 + or -0.024 for the {'C': 4, 'class_weight': 'balanced', 'decision_function_shape': 'ovo', 'kernel': 'linear'}\n",
            "0.829 + or -0.029 for the {'C': 4, 'class_weight': 'balanced', 'decision_function_shape': 'ovo', 'kernel': 'poly'}\n",
            "0.837 + or -0.018 for the {'C': 4, 'class_weight': 'balanced', 'decision_function_shape': 'ovr', 'kernel': 'rbf'}\n",
            "0.833 + or -0.024 for the {'C': 4, 'class_weight': 'balanced', 'decision_function_shape': 'ovr', 'kernel': 'linear'}\n",
            "0.829 + or -0.029 for the {'C': 4, 'class_weight': 'balanced', 'decision_function_shape': 'ovr', 'kernel': 'poly'}\n",
            "nan + or -nan for the {'C': 4, 'class_weight': 'dict', 'decision_function_shape': 'ovo', 'kernel': 'rbf'}\n",
            "nan + or -nan for the {'C': 4, 'class_weight': 'dict', 'decision_function_shape': 'ovo', 'kernel': 'linear'}\n",
            "nan + or -nan for the {'C': 4, 'class_weight': 'dict', 'decision_function_shape': 'ovo', 'kernel': 'poly'}\n",
            "nan + or -nan for the {'C': 4, 'class_weight': 'dict', 'decision_function_shape': 'ovr', 'kernel': 'rbf'}\n",
            "nan + or -nan for the {'C': 4, 'class_weight': 'dict', 'decision_function_shape': 'ovr', 'kernel': 'linear'}\n",
            "nan + or -nan for the {'C': 4, 'class_weight': 'dict', 'decision_function_shape': 'ovr', 'kernel': 'poly'}\n",
            "0.838 + or -0.019 for the {'C': 5, 'class_weight': 'balanced', 'decision_function_shape': 'ovo', 'kernel': 'rbf'}\n",
            "0.833 + or -0.024 for the {'C': 5, 'class_weight': 'balanced', 'decision_function_shape': 'ovo', 'kernel': 'linear'}\n",
            "0.821 + or -0.037 for the {'C': 5, 'class_weight': 'balanced', 'decision_function_shape': 'ovo', 'kernel': 'poly'}\n",
            "0.838 + or -0.019 for the {'C': 5, 'class_weight': 'balanced', 'decision_function_shape': 'ovr', 'kernel': 'rbf'}\n",
            "0.833 + or -0.024 for the {'C': 5, 'class_weight': 'balanced', 'decision_function_shape': 'ovr', 'kernel': 'linear'}\n",
            "0.821 + or -0.037 for the {'C': 5, 'class_weight': 'balanced', 'decision_function_shape': 'ovr', 'kernel': 'poly'}\n",
            "nan + or -nan for the {'C': 5, 'class_weight': 'dict', 'decision_function_shape': 'ovo', 'kernel': 'rbf'}\n",
            "nan + or -nan for the {'C': 5, 'class_weight': 'dict', 'decision_function_shape': 'ovo', 'kernel': 'linear'}\n",
            "nan + or -nan for the {'C': 5, 'class_weight': 'dict', 'decision_function_shape': 'ovo', 'kernel': 'poly'}\n",
            "nan + or -nan for the {'C': 5, 'class_weight': 'dict', 'decision_function_shape': 'ovr', 'kernel': 'rbf'}\n",
            "nan + or -nan for the {'C': 5, 'class_weight': 'dict', 'decision_function_shape': 'ovr', 'kernel': 'linear'}\n",
            "nan + or -nan for the {'C': 5, 'class_weight': 'dict', 'decision_function_shape': 'ovr', 'kernel': 'poly'}\n",
            "0.832 + or -0.015 for the {'C': 6, 'class_weight': 'balanced', 'decision_function_shape': 'ovo', 'kernel': 'rbf'}\n",
            "0.832 + or -0.024 for the {'C': 6, 'class_weight': 'balanced', 'decision_function_shape': 'ovo', 'kernel': 'linear'}\n",
            "0.813 + or -0.027 for the {'C': 6, 'class_weight': 'balanced', 'decision_function_shape': 'ovo', 'kernel': 'poly'}\n",
            "0.832 + or -0.015 for the {'C': 6, 'class_weight': 'balanced', 'decision_function_shape': 'ovr', 'kernel': 'rbf'}\n",
            "0.832 + or -0.024 for the {'C': 6, 'class_weight': 'balanced', 'decision_function_shape': 'ovr', 'kernel': 'linear'}\n",
            "0.813 + or -0.027 for the {'C': 6, 'class_weight': 'balanced', 'decision_function_shape': 'ovr', 'kernel': 'poly'}\n",
            "nan + or -nan for the {'C': 6, 'class_weight': 'dict', 'decision_function_shape': 'ovo', 'kernel': 'rbf'}\n",
            "nan + or -nan for the {'C': 6, 'class_weight': 'dict', 'decision_function_shape': 'ovo', 'kernel': 'linear'}\n",
            "nan + or -nan for the {'C': 6, 'class_weight': 'dict', 'decision_function_shape': 'ovo', 'kernel': 'poly'}\n",
            "nan + or -nan for the {'C': 6, 'class_weight': 'dict', 'decision_function_shape': 'ovr', 'kernel': 'rbf'}\n",
            "nan + or -nan for the {'C': 6, 'class_weight': 'dict', 'decision_function_shape': 'ovr', 'kernel': 'linear'}\n",
            "nan + or -nan for the {'C': 6, 'class_weight': 'dict', 'decision_function_shape': 'ovr', 'kernel': 'poly'}\n"
          ]
        }
      ]
    },
    {
      "cell_type": "markdown",
      "source": [
        "#plot between kernel and Accuracy"
      ],
      "metadata": {
        "id": "zQ1w5sUikpkR"
      }
    },
    {
      "cell_type": "code",
      "source": [
        "hyper_score_svm1 = []\n",
        "kernel= ['rbf','linear','poly']\n",
        "for i in range(len(kernel)):\n",
        "  svm = SVC(kernel=kernel[i],shrinking=True)\n",
        "  svm.fit(x_train,y_train)\n",
        "  y_pred = svm.predict(x_test)\n",
        "  hyper_score_svm1.append(accuracy_score(y_test,y_pred))\n",
        "print(hyper_score_svm1)\n",
        "plt.plot(kernel,hyper_score_svm1,color='b',marker='o')\n",
        "plt.xlabel(' kernel')\n",
        "plt.ylabel('acc_score')"
      ],
      "metadata": {
        "colab": {
          "base_uri": "https://localhost:8080/",
          "height": 314
        },
        "id": "aonHtWtU3tEB",
        "outputId": "6e1af899-0179-4602-da9d-116b81771831"
      },
      "execution_count": null,
      "outputs": [
        {
          "output_type": "stream",
          "name": "stdout",
          "text": [
            "[0.8659420289855072, 0.8514492753623188, 0.8478260869565217]\n"
          ]
        },
        {
          "output_type": "execute_result",
          "data": {
            "text/plain": [
              "Text(0, 0.5, 'acc_score')"
            ]
          },
          "metadata": {},
          "execution_count": 98
        },
        {
          "output_type": "display_data",
          "data": {
            "text/plain": [
              "<Figure size 432x288 with 1 Axes>"
            ],
            "image/png": "[encoded data removed]"
          },
          "metadata": {
            "needs_background": "light"
          }
        }
      ]
    },
    {
      "cell_type": "code",
      "source": [
        "svm_ = SVC(C=5, class_weight='balanced', decision_function_shape= 'ovo', kernel= 'rbf',random_state =1)\n",
        "new_svm_pipeline = Pipeline([('svm model', svm_)])\n",
        "run_pipeline(new_svm_pipeline,x_train, y_train,x_test,y_test)"
      ],
      "metadata": {
        "colab": {
          "base_uri": "https://localhost:8080/"
        },
        "id": "5qVZKG6h6nXa",
        "outputId": "095255a6-2c14-4934-cef4-7ade8d1dba9d"
      },
      "execution_count": null,
      "outputs": [
        {
          "output_type": "stream",
          "name": "stdout",
          "text": [
            "accuracy:  0.8695652173913043\n",
            "confusion matrices: \n",
            "[[[131  22]\n",
            "  [ 14 109]]\n",
            "\n",
            " [[109  14]\n",
            "  [ 22 131]]]\n",
            "classification_report: \n",
            "              precision    recall  f1-score   support\n",
            "\n",
            "           0       0.83      0.89      0.86       123\n",
            "           1       0.90      0.86      0.88       153\n",
            "\n",
            "    accuracy                           0.87       276\n",
            "   macro avg       0.87      0.87      0.87       276\n",
            "weighted avg       0.87      0.87      0.87       276\n",
            "\n"
          ]
        }
      ]
    }
  ]
}